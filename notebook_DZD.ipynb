{
 "cells": [
  {
   "cell_type": "markdown",
   "metadata": {},
   "source": [
    "# DZD Projekt Analýza zpoždění odletů a příletů z letiště JFK a LGA New York\n",
    "Vypracovali :   Martin Beneš – benm32@vse.cz\n",
    "                Viet Anh Do – doho01@vse.cz\n",
    "                Lukáš Mikšovský – mikl08@vse.cz\n"
   ]
  },
  {
   "cell_type": "code",
   "execution_count": 1,
   "id": "45337100",
   "metadata": {},
   "outputs": [],
   "source": [
    "import pandas as pd\n",
    "import numpy as np\n",
    "pd.set_option('display.max_columns', None)"
   ]
  },
  {
   "cell_type": "markdown",
   "metadata": {},
   "source": [
    "# Preprocessing\n",
    "začínáme už s předpřipraveným datasetem, ve kterém jsme už upravili formáty časových dat."
   ]
  },
  {
   "cell_type": "code",
   "execution_count": 2,
   "id": "a7e28711",
   "metadata": {},
   "outputs": [],
   "source": [
    "aero = pd.read_csv(\"df_all_time_formatted.csv\")"
   ]
  },
  {
   "cell_type": "markdown",
   "metadata": {},
   "source": [
    "## Odstranění features, které nemají pro naši analýzu význam\n",
    "Názvy odstraněných sloupců jsou vidět v kódu"
   ]
  },
  {
   "cell_type": "code",
   "execution_count": 3,
   "id": "813b3a78",
   "metadata": {},
   "outputs": [],
   "source": [
    "aero_dropped = aero.drop([\"MKT_UNIQUE_CARRIER\",\"MKT_CARRIER_AIRLINE_ID\",\"TAIL_NUM\",\"FL_DATE\",\"DEP_TIME\"\n",
    "                          ,\"ARR_TIME\",\"CRS_DEP_TIME\",\"DEP_DELAY\",\"ARR_DELAY\",\"CRS_ARR_TIME\",\"WHEELS_OFF\",\"WHEELS_OFF\",\"WHEELS_ON\",\"MKT_CARRIER\",\"MKT_CARRIER_FL_NUM\",\"SCH_OP_CARRIER_FL_NUM\",\n",
    "                          \"SCH_OP_CARRIER_FL_NUM\",\"ORIGIN_AIRPORT_ID\",\"ORIGIN_AIRPORT_SEQ_ID\",\"ORIGIN_CITY_MARKET_ID\",\"DEP_TIME_formatted\"\n",
    "                          ,\"ARR_TIME_formatted\",\"WHEELS_OFF_formatted\",\"WHEELS_ON_formatted\"\n",
    "                          ,\"ORIGIN_CITY_NAME\",\"ORIGIN_STATE_ABR\",\"DEST_AIRPORT_ID\",\"DEST_AIRPORT_SEQ_ID\",\"DEST_CITY_MARKET_ID\",\"CRS_DEP_TIME_formatted\",\"CRS_ARR_TIME_formatted\",\"FL_DATE_formatted\"\n",
    "                          ,\"DEST_CITY_NAME\",\"DEST_STATE_ABR\",\"FIRST_DEP_TIME\",\"TOTAL_ADD_GTIME\",\"LONGEST_ADD_GTIME\"], axis='columns')"
   ]
  },
  {
   "cell_type": "markdown",
   "id": "ef732a17",
   "metadata": {},
   "source": [
    "# Cleaning the DEP_DATE_TIME data\n",
    "Zde jsme si opět za pomoci externího nástroje připravili tabulku obsahující pouze časy ve formátu v jakém je potřebujeme k joinu datasetů a pouze je nahradili v původním dataframu. "
   ]
  },
  {
   "cell_type": "code",
   "execution_count": 4,
   "id": "751d4558",
   "metadata": {},
   "outputs": [],
   "source": [
    "goodcolumns = pd.read_csv(\"dvasl.csv\")\n",
    "aero_dropped[['DEP_DATE_TIME', 'ARR_DATE_TIME']] = goodcolumns[['DEP_DATE_TIME', 'ARR_DATE_TIME']]"
   ]
  },
  {
   "cell_type": "code",
   "execution_count": 5,
   "id": "63c631c2",
   "metadata": {
    "scrolled": false
   },
   "outputs": [],
   "source": [
    "aero_dropped['DEP_DATE_TIME'] = pd.to_datetime(aero_dropped['DEP_DATE_TIME'])\n",
    "aero_dropped['DEP_DATE_TIME_H'] = aero_dropped['DEP_DATE_TIME'].dt.floor('H')"
   ]
  },
  {
   "cell_type": "markdown",
   "id": "b94a1684",
   "metadata": {},
   "source": [
    "# Preprocessing druhého datasetu obsahující METEO data"
   ]
  },
  {
   "cell_type": "code",
   "execution_count": 6,
   "id": "0cbcef00",
   "metadata": {},
   "outputs": [],
   "source": [
    "meteo = pd.read_csv(\"meteo_n.csv\", delimiter=';')"
   ]
  },
  {
   "cell_type": "code",
   "execution_count": 7,
   "id": "a43a5e3d",
   "metadata": {},
   "outputs": [
    {
     "name": "stdout",
     "output_type": "stream",
     "text": [
      "Index(['station', 'valid_date', 'valid_time_new', 'valid_date_time', 'tmpf',\n",
      "       'dwpf', 'relh', 'drct', 'sknt', 'p01i', 'alti', 'mslp', 'vsby', 'gust',\n",
      "       'skyc1', 'skyc2', 'skyc3', 'skyc4', 'skyl1', 'skyl2', 'skyl3', 'skyl4',\n",
      "       'wxcodes', 'ice_accretion_1hr', 'ice_accretion_3hr',\n",
      "       'ice_accretion_6hr', 'peak_wind_gust', 'peak_wind_drct',\n",
      "       'peak_wind_time', 'feel', 'metar', 'airport', 'snowdepth'],\n",
      "      dtype='object')\n"
     ]
    }
   ],
   "source": [
    "print(meteo.columns)"
   ]
  },
  {
   "cell_type": "markdown",
   "metadata": {},
   "source": [
    "### Drop atributů, které nepotřebujeme"
   ]
  },
  {
   "cell_type": "code",
   "execution_count": 8,
   "id": "4125ac63",
   "metadata": {},
   "outputs": [],
   "source": [
    "meteo_dropped = meteo.drop([\"valid_date\", \"valid_time_new\", \"metar\", \"airport\", \"ice_accretion_1hr\",\n",
    "                            \"ice_accretion_3hr\", \"ice_accretion_6hr\", \"snowdepth\",], axis=\"columns\")"
   ]
  },
  {
   "cell_type": "code",
   "execution_count": 9,
   "id": "4fc3ca8a",
   "metadata": {},
   "outputs": [
    {
     "name": "stdout",
     "output_type": "stream",
     "text": [
      "Index(['station', 'valid_date_time', 'tmpf', 'dwpf', 'relh', 'drct', 'sknt',\n",
      "       'p01i', 'alti', 'mslp', 'vsby', 'gust', 'skyc1', 'skyc2', 'skyc3',\n",
      "       'skyc4', 'skyl1', 'skyl2', 'skyl3', 'skyl4', 'wxcodes',\n",
      "       'peak_wind_gust', 'peak_wind_drct', 'peak_wind_time', 'feel'],\n",
      "      dtype='object')\n"
     ]
    }
   ],
   "source": [
    "print(meteo_dropped.columns)"
   ]
  },
  {
   "cell_type": "markdown",
   "metadata": {},
   "source": [
    "### Úprava formátu časového atributu valid_date_time a následné zaokrouhlení na hodiny pro JOIN \n"
   ]
  },
  {
   "cell_type": "code",
   "execution_count": 10,
   "id": "6f3130ae",
   "metadata": {},
   "outputs": [],
   "source": [
    "meteo_dropped['valid_date_time'] = pd.to_datetime(meteo_dropped['valid_date_time'], format = \"%d.%m.%Y %H:%M\")\n",
    "meteo_dropped['valid_date_time_H'] = meteo_dropped['valid_date_time'].dt.floor('H')"
   ]
  },
  {
   "cell_type": "markdown",
   "id": "f414b58a",
   "metadata": {},
   "source": [
    "# Merging the two dataframes\n",
    "Zde jsme provedli merge. Kód je rozdělen na dva joiny, protože jsme měli problém v případech kdy bylo potřeba doplnit meteorologické data k letům s destination JFK, nebo LGA. "
   ]
  },
  {
   "cell_type": "code",
   "execution_count": 11,
   "id": "0ab12a4b",
   "metadata": {},
   "outputs": [],
   "source": [
    "merged_data_other_dest = pd.merge(aero_dropped[aero_dropped['DEST'].isin(['JFK', 'LGA']) == False], meteo_dropped,\n",
    "                                  left_on=[\"DEP_DATE_TIME_H\", \"ORIGIN\"], right_on=[\"valid_date_time_H\", \"station\"], how=\"left\")\n",
    "\n",
    "merged_data_jfk_lga_dest = pd.merge(aero_dropped[aero_dropped['DEST'].isin(['JFK', 'LGA'])], meteo_dropped,\n",
    "                                    left_on=[\"DEP_DATE_TIME_H\", \"DEST\"], right_on=[\"valid_date_time_H\", \"station\"], how=\"left\")\n",
    "\n",
    "merged_data_final = pd.concat([merged_data_other_dest, merged_data_jfk_lga_dest], ignore_index=True)\n"
   ]
  },
  {
   "cell_type": "markdown",
   "id": "99a4c886",
   "metadata": {},
   "source": [
    "## Stanice nemá data v konkrétní hodinu\n",
    "V datasetu se stále nacházela data, kdy meteorologická stanice neměla data. Těch bylo konkrétně **2504** a rozhodli jsme se je odebrat a resetovat index"
   ]
  },
  {
   "cell_type": "code",
   "execution_count": 12,
   "id": "bf6f1af8",
   "metadata": {},
   "outputs": [
    {
     "name": "stdout",
     "output_type": "stream",
     "text": [
      "2504\n"
     ]
    }
   ],
   "source": [
    "null_station_count = merged_data_final['station'].isnull().sum()\n",
    "print(null_station_count)\n",
    "merged_data_final = merged_data_final.dropna(subset=['station'])\n",
    "merged_data_final = merged_data_final.reset_index(drop=True)\n"
   ]
  },
  {
   "cell_type": "markdown",
   "metadata": {},
   "source": [
    "### Zde jsme opět odranili některé nepotřebné atributy"
   ]
  },
  {
   "cell_type": "code",
   "execution_count": 13,
   "id": "2ccdc97e",
   "metadata": {},
   "outputs": [],
   "source": [
    "df = merged_data_final.drop([\"OP_CARRIER_FL_NUM\", \"DEP_TIME_BLK\", \"ARR_TIME_BLK\", \"CANCELLATION_CODE\", \"DUP\", \n",
    "                             \"DEP_DATE_TIME\", \"ARR_DATE_TIME\", \"CRS_DEP_DATE_TIME\", \"CRS_ARR_DATE_TIME\", \"WHEELS_OFF_DATE_TIME\",\n",
    "                             \"WHEELS_ON_DATE_TIME\",\"DEP_DATE_TIME_H\",\"valid_date_time\", \"peak_wind_gust\", \"peak_wind_drct\", \"peak_wind_time\"], axis= \"columns\")"
   ]
  },
  {
   "cell_type": "markdown",
   "metadata": {},
   "source": [
    "# Exploratory data analysis\n",
    "začínáme korelační maticí numerických atributů"
   ]
  },
  {
   "cell_type": "code",
   "execution_count": 14,
   "id": "e5ccef4b",
   "metadata": {},
   "outputs": [
    {
     "data": {
      "image/png": "[encoded data removed]",
      "text/plain": [
       "<Figure size 800x600 with 2 Axes>"
      ]
     },
     "metadata": {},
     "output_type": "display_data"
    },
    {
     "name": "stdout",
     "output_type": "stream",
     "text": [
      "Highly Correlated Feature Pairs:\n",
      "('DEP_DELAY_NEW', 'DEP_DELAY_GROUP')\n",
      "('DEP_DELAY_NEW', 'ARR_DELAY_NEW')\n",
      "('DEP_DELAY_NEW', 'ARR_DELAY_GROUP')\n",
      "('DEP_DELAY_NEW', 'CARRIER_DELAY')\n",
      "('DEP_DEL15', 'DEP_DELAY_GROUP')\n",
      "('DEP_DEL15', 'ARR_DEL15')\n",
      "('DEP_DELAY_GROUP', 'ARR_DELAY_NEW')\n",
      "('DEP_DELAY_GROUP', 'ARR_DELAY_GROUP')\n",
      "('ARR_DELAY_NEW', 'ARR_DELAY_GROUP')\n",
      "('ARR_DELAY_NEW', 'CARRIER_DELAY')\n",
      "('ARR_DEL15', 'ARR_DELAY_GROUP')\n",
      "('CRS_ELAPSED_TIME', 'ACTUAL_ELAPSED_TIME')\n",
      "('CRS_ELAPSED_TIME', 'AIR_TIME')\n",
      "('CRS_ELAPSED_TIME', 'DISTANCE')\n",
      "('CRS_ELAPSED_TIME', 'DISTANCE_GROUP')\n",
      "('ACTUAL_ELAPSED_TIME', 'AIR_TIME')\n",
      "('ACTUAL_ELAPSED_TIME', 'DISTANCE')\n",
      "('ACTUAL_ELAPSED_TIME', 'DISTANCE_GROUP')\n",
      "('AIR_TIME', 'DISTANCE')\n",
      "('AIR_TIME', 'DISTANCE_GROUP')\n",
      "('DISTANCE', 'DISTANCE_GROUP')\n",
      "('tmpf', 'dwpf')\n",
      "('tmpf', 'feel')\n",
      "('dwpf', 'relh')\n",
      "('dwpf', 'feel')\n",
      "('sknt', 'gust')\n",
      "('alti', 'mslp')\n",
      "('skyl1', 'skyl2')\n",
      "('skyl2', 'skyl3')\n"
     ]
    }
   ],
   "source": [
    "import seaborn as sns\n",
    "import matplotlib.pyplot as plt\n",
    "\n",
    "numeric_columns = df.select_dtypes(include=[np.number]).columns\n",
    "numeric_data = df[numeric_columns]\n",
    "correlation_matrix = numeric_data.corr()\n",
    "\n",
    "# seaborn heatmapa\n",
    "sns.set(style=\"white\")\n",
    "plt.figure(figsize=(8, 6))\n",
    "sns.heatmap(correlation_matrix, annot=False, cmap=\"coolwarm\", fmt=\".2f\")\n",
    "plt.title(\"Correlation Matrix\")\n",
    "plt.show()\n",
    "\n",
    "highly_correlated = np.where(np.abs(correlation_matrix) > 0.7)\n",
    "# feature pairs\n",
    "correlated_pairs = [(correlation_matrix.index[i], correlation_matrix.columns[j])\n",
    "                    for i, j in zip(*highly_correlated) if i != j and i < j]\n",
    "print(\"Highly Correlated Feature Pairs:\")\n",
    "for pair in correlated_pairs:\n",
    "    print(pair)\n"
   ]
  },
  {
   "cell_type": "markdown",
   "metadata": {},
   "source": [
    "## Korelace arrival a departure delay ve scatter plot"
   ]
  },
  {
   "cell_type": "code",
   "execution_count": 15,
   "id": "3a080633",
   "metadata": {},
   "outputs": [
    {
     "data": {
      "image/png": "[encoded data removed]",
      "text/plain": [
       "<Figure size 800x600 with 1 Axes>"
      ]
     },
     "metadata": {},
     "output_type": "display_data"
    }
   ],
   "source": [
    "plt.figure(figsize=(8, 6))\n",
    "plt.scatter(df['DEP_DELAY_NEW'], df['ARR_DELAY_NEW'], alpha=0.7)\n",
    "plt.title('Scatter Plot of Arrival Delay vs Departure Delay')\n",
    "plt.xlabel('Departure Delay (minutes)')\n",
    "plt.ylabel('Arrival Delay (minutes)')\n",
    "plt.grid(True)\n",
    "plt.show()"
   ]
  },
  {
   "cell_type": "markdown",
   "metadata": {},
   "source": [
    "## Vizualizace arrival a departure delay v závislosti na délce letu"
   ]
  },
  {
   "cell_type": "code",
   "execution_count": 16,
   "id": "a576c71a",
   "metadata": {},
   "outputs": [
    {
     "data": {
      "image/png": "[encoded data removed]",
      "text/plain": [
       "<Figure size 640x480 with 1 Axes>"
      ]
     },
     "metadata": {},
     "output_type": "display_data"
    }
   ],
   "source": [
    "scatter = plt.scatter(df['ACTUAL_ELAPSED_TIME'], df['DEP_DELAY_NEW'], c='blue', label='Departure Delay', alpha=0.7)\n",
    "plt.scatter(df['ACTUAL_ELAPSED_TIME'], df['ARR_DELAY_NEW'], c='red', label='Arrival Delay', alpha=0.7)\n",
    "plt.legend()\n",
    "plt.title('Scatter Plot of Elapsed Time vs Delays')\n",
    "plt.xlabel('Elapsed Time (minutes)')\n",
    "plt.ylabel('Delay (minutes)')\n",
    "plt.grid(True)\n",
    "plt.show()"
   ]
  },
  {
   "cell_type": "markdown",
   "metadata": {},
   "source": [
    "## Vizualizace jednotlivých typů a délky zpoždění \n",
    "Nejedná se o kompletní data ale o subset 5000 letů, kvůli lepší přehlednosti grafu"
   ]
  },
  {
   "cell_type": "code",
   "execution_count": 17,
   "id": "14beb48e",
   "metadata": {},
   "outputs": [
    {
     "data": {
      "image/png": "[encoded data removed]",
      "text/plain": [
       "<Figure size 640x480 with 1 Axes>"
      ]
     },
     "metadata": {},
     "output_type": "display_data"
    }
   ],
   "source": [
    "subset_size = 5000\n",
    "df_subset = df.sample(n=subset_size, random_state=1784167)\n",
    "\n",
    "scatter_carrier = plt.scatter(df_subset['valid_date_time_H'], df_subset['CARRIER_DELAY'], c='blue', label='Carrier delay', alpha=0.7, marker='o')\n",
    "scatter_weather = plt.scatter(df_subset['valid_date_time_H'], df_subset['WEATHER_DELAY'], c='red', label='Weather delay', alpha=0.7, marker='s')\n",
    "scatter_nas = plt.scatter(df_subset['valid_date_time_H'], df_subset['NAS_DELAY'], c='green', label='NAS delay', alpha=0.7, marker='^')\n",
    "scatter_sec = plt.scatter(df_subset['valid_date_time_H'], df_subset['SECURITY_DELAY'], c='purple', label='Security delay', alpha=0.7, marker='v')\n",
    "scatter_lateac = plt.scatter(df_subset['valid_date_time_H'], df_subset['LATE_AIRCRAFT_DELAY'], c='yellow', label='Late aircraft delay', alpha=0.7, marker='x')\n",
    "\n",
    "plt.legend()\n",
    "plt.title('Scatter Plot Delays')\n",
    "plt.xlabel('flight x')\n",
    "plt.ylabel('Delay (minutes)')\n",
    "plt.grid(True)\n",
    "plt.show()"
   ]
  },
  {
   "cell_type": "markdown",
   "metadata": {},
   "source": [
    "## Detailnější pohled na zpoždění způsobené počasím"
   ]
  },
  {
   "cell_type": "code",
   "execution_count": 18,
   "id": "ad325705",
   "metadata": {},
   "outputs": [
    {
     "data": {
      "image/png": "[encoded data removed]",
      "text/plain": [
       "<Figure size 640x480 with 1 Axes>"
      ]
     },
     "metadata": {},
     "output_type": "display_data"
    }
   ],
   "source": [
    "scatter_weather = plt.scatter(df['valid_date_time_H'], df['WEATHER_DELAY'], c='red', label='Weather delay', alpha=0.7, marker='o')\n",
    "plt.title('Scatter Plot Weather delay')\n",
    "plt.xlabel('The month of January')\n",
    "plt.ylabel('Delay (minutes)')\n",
    "plt.grid(True)\n",
    "plt.show()"
   ]
  },
  {
   "cell_type": "markdown",
   "metadata": {},
   "source": [
    "## Poslední vizualizace zpoždění zaviněného počasím a rychlostí větru a jeho typu gust/wind"
   ]
  },
  {
   "cell_type": "code",
   "execution_count": 19,
   "id": "14909ba0",
   "metadata": {},
   "outputs": [
    {
     "data": {
      "image/png": "[encoded data removed]",
      "text/plain": [
       "<Figure size 640x480 with 1 Axes>"
      ]
     },
     "metadata": {},
     "output_type": "display_data"
    }
   ],
   "source": [
    "scatter = plt.scatter(df['sknt'], df['WEATHER_DELAY'], c='blue', label='sknt', alpha=0.7)\n",
    "plt.scatter(df['gust'], df['WEATHER_DELAY'], c='red', label='gust', alpha=0.7)\n",
    "plt.legend()\n",
    "plt.title('Scatter Plot of Windspeed vs Weather delay')\n",
    "plt.xlabel('Wind speed in knots')\n",
    "plt.ylabel('Delay (minutes)')\n",
    "plt.grid(True)\n",
    "plt.show()"
   ]
  },
  {
   "cell_type": "markdown",
   "metadata": {},
   "source": [
    "# Kategorizace atributů "
   ]
  },
  {
   "cell_type": "markdown",
   "metadata": {},
   "source": [
    "### Kategorizace teploty a vlhkosti vzduchu"
   ]
  },
  {
   "cell_type": "code",
   "execution_count": 20,
   "metadata": {},
   "outputs": [],
   "source": [
    "def label_encode(df, columns):\n",
    "    labels = ['Very low', 'Low', 'Average', 'High', 'Very high']\n",
    "\n",
    "    for column in columns:\n",
    "        # podle kvantilů\n",
    "        df[column + '_category'] = pd.qcut(df[column], q=5, labels=labels)\n",
    "    return df\n",
    "df = label_encode(df, ['tmpf', 'relh','dwpf'])"
   ]
  },
  {
   "cell_type": "markdown",
   "metadata": {},
   "source": [
    "### Kategorizace směru větru"
   ]
  },
  {
   "cell_type": "code",
   "execution_count": 21,
   "metadata": {},
   "outputs": [],
   "source": [
    "def categorize_wind_direction(df, column):\n",
    "    boundaries = [0, 90, 180, 270, 360]\n",
    "    labels = ['North-East', 'South-East', 'South-West', 'North-West']\n",
    "    df[column + '_category'] = pd.cut(df[column], bins=boundaries, labels=labels, include_lowest=True)\n",
    "    return df\n",
    "df = categorize_wind_direction(df, 'drct')"
   ]
  },
  {
   "cell_type": "code",
   "execution_count": 22,
   "metadata": {},
   "outputs": [
    {
     "data": {
      "image/png": "[encoded data removed]",
      "text/plain": [
       "<Figure size 800x800 with 1 Axes>"
      ]
     },
     "metadata": {},
     "output_type": "display_data"
    }
   ],
   "source": [
    "def plot_wind_direction(df, column):\n",
    "    frequencies = df[column].value_counts()\n",
    "    colors = ['yellowgreen', 'gold', 'lightskyblue', 'lightcoral']\n",
    "    plt.figure(figsize=(8, 8))\n",
    "    plt.pie([1, 1, 1, 1], labels=frequencies.index, colors=colors, \n",
    "            startangle=90, counterclock=False, wedgeprops=dict(width=0.3))\n",
    "    plt.pie(frequencies, labels=None, radius=0.7, colors=colors, \n",
    "            startangle=90, counterclock=False, autopct='%1.1f%%')\n",
    "    centre_circle = plt.Circle((0,0),0.5,color='black', fc='white',linewidth=0)\n",
    "    fig = plt.gcf()\n",
    "    fig.gca().add_artist(centre_circle)\n",
    "    plt.title('Směr větru')\n",
    "    plt.show()\n",
    "\n",
    "plot_wind_direction(df, 'drct_category')\n"
   ]
  },
  {
   "cell_type": "markdown",
   "metadata": {},
   "source": [
    "### kategorizace wind speed in knots (sknt), \n",
    "### + 2 kategorie extreme low a extreme high = lowest a highest decile "
   ]
  },
  {
   "cell_type": "code",
   "execution_count": 23,
   "metadata": {},
   "outputs": [],
   "source": [
    "def label_encode(df, columns):\n",
    "    labels = ['Extreme Low', 'Very Low', 'Low', 'Average', 'High', 'Very High', 'Extreme High']\n",
    "    for column in columns:\n",
    "        df[column + '_category'] = pd.qcut(df[column], q=[0, 0.1, 0.2, 0.4, 0.6, 0.8, 0.9, 1], labels=labels)\n",
    "    return df\n",
    "df = label_encode(df, ['sknt'])"
   ]
  },
  {
   "cell_type": "markdown",
   "metadata": {},
   "source": [
    "### kategorizace CARRIER_DELAY\tWEATHER_DELAY\tNAS_DELAY\tSECURITY_DELAY"
   ]
  },
  {
   "cell_type": "code",
   "execution_count": 24,
   "metadata": {},
   "outputs": [],
   "source": [
    "def categorize_delay(df, columns):\n",
    "    boundaries = [0, 5, 15, 30, 60, 120, 180, np.inf]\n",
    "    labels = ['Low', 'Noticeable', 'Medium', 'Above Average', 'High', 'Very High', 'Extreme']\n",
    "    for column in columns:\n",
    "        if pd.api.types.is_numeric_dtype(df[column]):\n",
    "            df[column].fillna(0, inplace=True)  # missing hodnoty\n",
    "            df[column + '_category'] = pd.cut(df[column], bins=boundaries, labels=labels, include_lowest=True)\n",
    "        else:\n",
    "            print(f\"Cannot categorize column '{column}' because it's not numeric.\")\n",
    "\n",
    "    return df\n",
    "columns_to_categorize = ['CARRIER_DELAY', 'WEATHER_DELAY', 'NAS_DELAY', 'SECURITY_DELAY', 'LATE_AIRCRAFT_DELAY']\n",
    "df = categorize_delay(df, columns_to_categorize)\n",
    "\n"
   ]
  },
  {
   "cell_type": "markdown",
   "metadata": {},
   "source": [
    "### Vytvoření kategorie denní hodiny\n",
    "jenom další sloupec, který ale obsahuje pouze hodinu ve které se let uskutečnil"
   ]
  },
  {
   "cell_type": "code",
   "execution_count": 25,
   "metadata": {},
   "outputs": [],
   "source": [
    "df['time'] = df['valid_date_time_H'].dt.strftime('%H:%M')\n"
   ]
  },
  {
   "cell_type": "markdown",
   "metadata": {},
   "source": [
    "# 3 volitelné metody\n",
    "Síťový graf - vizualizační balíček,\n",
    "K-means clustering,\n",
    "Predikce - Decision Tree classifier,\n",
    "Tyto 3 úlohy jsou umístěny zde, protože CleverMiner nám některé attributy v dataframu ignoroval. "
   ]
  },
  {
   "cell_type": "markdown",
   "metadata": {},
   "source": [
    "### Síťový graf letišť a letů mezi nimi\n",
    "V prezentaci je vizuálně lepší kvůli upravené velikosti "
   ]
  },
  {
   "cell_type": "code",
   "execution_count": 26,
   "metadata": {},
   "outputs": [
    {
     "data": {
      "application/vnd.plotly.v1+json": {
       "config": {
        "plotlyServerURL": "https://plot.ly"
       },
       "data": [
        {
         "line": {
          "color": "rgba(80,80,80,0.5)"
         },
         "mode": "lines",
         "type": "scatter",
         "x": [
          -0.007358167354035403,
          0.03517872851283113,
          null,
          -0.007358167354035403,
          -0.021785802205638326,
          null,
          -0.007358167354035403,
          0.1843838804266937,
          null,
          -0.007358167354035403,
          -0.03016973141217022,
          null,
          -0.007358167354035403,
          -0.01261196272212665,
          null,
          -0.007358167354035403,
          -0.20518773956246383,
          null,
          -0.007358167354035403,
          0.004159296988179389,
          null,
          -0.007358167354035403,
          0.003940893629387868,
          null,
          -0.007358167354035403,
          -0.17432160819310674,
          null,
          -0.007358167354035403,
          0.49060884357334683,
          null,
          -0.007358167354035403,
          0.3613304823600406,
          null,
          -0.007358167354035403,
          -0.27490299498928195,
          null,
          -0.007358167354035403,
          0.5650987519992221,
          null,
          -0.007358167354035403,
          -0.18046209580306238,
          null,
          -0.007358167354035403,
          -0.2695756339290234,
          null,
          -0.007358167354035403,
          0.42409074683440184,
          null,
          -0.007358167354035403,
          -0.1922787658931093,
          null,
          -0.007358167354035403,
          0.12389159994740993,
          null,
          -0.007358167354035403,
          -0.3491018446392596,
          null,
          -0.007358167354035403,
          0.2094406483504059,
          null,
          -0.007358167354035403,
          -0.1627162136146433,
          null,
          -0.007358167354035403,
          0.01195127815953399,
          null,
          -0.007358167354035403,
          0.0075696337710449875,
          null,
          -0.007358167354035403,
          -0.12118970886299071,
          null,
          -0.007358167354035403,
          -0.08219992127348384,
          null,
          -0.007358167354035403,
          0.3487917897175255,
          null,
          -0.007358167354035403,
          0.11415504513002224,
          null,
          -0.007358167354035403,
          0.08653645705985542,
          null,
          -0.007358167354035403,
          -0.47470176842042716,
          null,
          -0.007358167354035403,
          -0.4109538353755214,
          null,
          -0.007358167354035403,
          0.13039800037944818,
          null,
          -0.007358167354035403,
          0.11188750298815615,
          null,
          -0.007358167354035403,
          0.13311681948680795,
          null,
          -0.007358167354035403,
          0.07118493974142533,
          null,
          -0.007358167354035403,
          -0.01621624087248061,
          null,
          -0.007358167354035403,
          0.07370686397215404,
          null,
          -0.007358167354035403,
          -0.07128059335762146,
          null,
          -0.007358167354035403,
          0.03136405737546416,
          null,
          -0.007358167354035403,
          0.3613747950277663,
          null,
          -0.007358167354035403,
          0.1489835458923185,
          null,
          -0.007358167354035403,
          -0.08671554859575516,
          null,
          -0.007358167354035403,
          0.17889256168661075,
          null,
          -0.007358167354035403,
          -0.035640868892248496,
          null,
          -0.007358167354035403,
          -0.26978275243344774,
          null,
          -0.007358167354035403,
          -0.027026990473791764,
          null,
          -0.007358167354035403,
          0.21499508713603638,
          null,
          -0.007358167354035403,
          -0.04409196210518669,
          null,
          -0.007358167354035403,
          -0.15123164787222781,
          null,
          -0.007358167354035403,
          0.12782427692516984,
          null,
          -0.007358167354035403,
          -0.1634508996114984,
          null,
          -0.007358167354035403,
          -0.026282966947795208,
          null,
          -0.007358167354035403,
          -0.17428635198861084,
          null,
          -0.007358167354035403,
          0.1538263339824318,
          null,
          -0.007358167354035403,
          -0.14746067729897952,
          null,
          -0.007358167354035403,
          -0.1391350241355366,
          null,
          -0.007358167354035403,
          -0.13701452939852754,
          null,
          -0.007358167354035403,
          0.1310328211480401,
          null,
          -0.007358167354035403,
          -0.03224242313801749,
          null,
          -0.007358167354035403,
          -0.008250079065771868,
          null,
          -0.007358167354035403,
          0.38086778249643943,
          null,
          -0.007358167354035403,
          0.30849911975837324,
          null,
          -0.007358167354035403,
          -0.06254719726322391,
          null,
          -0.007358167354035403,
          -0.3787251152001452,
          null,
          -0.007358167354035403,
          -0.44098504165313773,
          null,
          -0.007358167354035403,
          0.16419094253891095,
          null,
          -0.021785802205638326,
          -0.005863070751985911,
          null,
          -0.005863070751985911,
          -0.2695756339290234,
          null,
          -0.005863070751985911,
          0.004159296988179389,
          null,
          -0.005863070751985911,
          0.2942239096045431,
          null,
          -0.005863070751985911,
          -0.17432160819310674,
          null,
          -0.005863070751985911,
          0.42409074683440184,
          null,
          -0.005863070751985911,
          -0.20518773956246383,
          null,
          -0.005863070751985911,
          0.12389159994740993,
          null,
          -0.005863070751985911,
          -0.27490299498928195,
          null,
          -0.005863070751985911,
          -0.18046209580306238,
          null,
          -0.005863070751985911,
          -0.3787251152001452,
          null,
          -0.005863070751985911,
          0.2094406483504059,
          null,
          -0.005863070751985911,
          -0.3102720817204747,
          null,
          -0.005863070751985911,
          0.10467135738509512,
          null,
          -0.005863070751985911,
          0.11281055896287778,
          null,
          -0.005863070751985911,
          0.19545981066995224,
          null,
          -0.005863070751985911,
          -0.26978275243344774,
          null,
          -0.005863070751985911,
          0.1947145363302915,
          null,
          -0.005863070751985911,
          -0.16304405677454017,
          null,
          -0.005863070751985911,
          -0.026282966947795208,
          null,
          -0.005863070751985911,
          -0.01150351007780968,
          null,
          -0.005863070751985911,
          0.19169964098334585,
          null,
          -0.005863070751985911,
          -0.22805530564703835,
          null,
          -0.005863070751985911,
          0.18860145419272858,
          null,
          -0.005863070751985911,
          -0.027026990473791764,
          null,
          -0.005863070751985911,
          -0.3491018446392596,
          null,
          -0.005863070751985911,
          0.1489835458923185,
          null,
          -0.005863070751985911,
          -0.0615766753431708,
          null,
          -0.005863070751985911,
          0.2006734294198667,
          null,
          -0.005863070751985911,
          0.3613304823600406,
          null,
          -0.005863070751985911,
          -0.1922787658931093,
          null,
          -0.005863070751985911,
          0.49060884357334683,
          null,
          -0.005863070751985911,
          -0.01621624087248061,
          null,
          -0.005863070751985911,
          -0.15123164787222781,
          null,
          -0.005863070751985911,
          0.11415504513002224,
          null,
          -0.005863070751985911,
          0.08653645705985542,
          null,
          -0.005863070751985911,
          -0.08671554859575516,
          null,
          -0.005863070751985911,
          0.07118493974142533,
          null,
          -0.005863070751985911,
          -0.03224242313801749,
          null,
          -0.005863070751985911,
          0.03136405737546416,
          null,
          -0.005863070751985911,
          0.13311681948680795,
          null,
          -0.005863070751985911,
          0.21499508713603638,
          null,
          -0.005863070751985911,
          0.11188750298815615,
          null,
          -0.005863070751985911,
          -0.035640868892248496,
          null,
          -0.005863070751985911,
          0.13219725105947983,
          null,
          -0.005863070751985911,
          0.3487917897175255,
          null,
          -0.005863070751985911,
          -0.17428635198861084,
          null,
          -0.005863070751985911,
          -0.47470176842042716,
          null,
          -0.005863070751985911,
          -0.6230294515180721,
          null,
          -0.005863070751985911,
          -0.4109538353755214,
          null,
          -0.005863070751985911,
          0.30849911975837324,
          null,
          -0.005863070751985911,
          0.38086778249643943,
          null,
          -0.005863070751985911,
          0.4066048996806325,
          null,
          -0.005863070751985911,
          0.05264953771997798,
          null,
          -0.005863070751985911,
          -0.17155752476322822,
          null,
          -0.005863070751985911,
          -0.44098504165313773,
          null,
          -0.005863070751985911,
          0.006178138695722939,
          null,
          -0.005863070751985911,
          -0.1473572092034161,
          null,
          -0.005863070751985911,
          -0.1801778295965907,
          null,
          -0.005863070751985911,
          -0.2392804111018647,
          null,
          -0.005863070751985911,
          -0.3167578543162424,
          null,
          -0.005863070751985911,
          -0.08847461250699283,
          null,
          -0.005863070751985911,
          -0.11104358677375635,
          null,
          -0.005863070751985911,
          -0.08672046884349995,
          null,
          -0.005863070751985911,
          -0.03016973141217022,
          null,
          -0.005863070751985911,
          0.3613747950277663,
          null,
          -0.005863070751985911,
          -0.4258899380880586,
          null,
          -0.005863070751985911,
          -0.06508876317879997,
          null,
          -0.005863070751985911,
          0.20926064841888264,
          null,
          -0.005863070751985911,
          0.29675686577677274,
          null,
          -0.005863070751985911,
          0.5650987519992221,
          null,
          -0.005863070751985911,
          0.29944795418379255,
          null,
          -0.005863070751985911,
          0.3119683892477496,
          null,
          -0.005863070751985911,
          -0.2747608288992306,
          null,
          -0.005863070751985911,
          0.0011459743318555967,
          null
         ],
         "y": [
          -0.3208154042981384,
          -0.3978938616308718,
          null,
          -0.3208154042981384,
          -0.02445774320195263,
          null,
          -0.3208154042981384,
          -0.4112133886160476,
          null,
          -0.3208154042981384,
          -0.1405997439170141,
          null,
          -0.3208154042981384,
          -0.4713445976502682,
          null,
          -0.3208154042981384,
          -0.1312043098077715,
          null,
          -0.3208154042981384,
          -0.08016896670757859,
          null,
          -0.3208154042981384,
          -0.6027392384034994,
          null,
          -0.3208154042981384,
          -0.023243499902470287,
          null,
          -0.3208154042981384,
          0.02850089181614657,
          null,
          -0.3208154042981384,
          -0.03231023529311494,
          null,
          -0.3208154042981384,
          -0.0974226534539,
          null,
          -0.3208154042981384,
          -0.17741551087978114,
          null,
          -0.3208154042981384,
          0.00008302558798677041,
          null,
          -0.3208154042981384,
          -0.20193393873126125,
          null,
          -0.3208154042981384,
          -0.043760667310630025,
          null,
          -0.3208154042981384,
          -0.11836455473931728,
          null,
          -0.3208154042981384,
          -0.01374978127994779,
          null,
          -0.3208154042981384,
          -0.1887879139782727,
          null,
          -0.3208154042981384,
          -0.1954969922984406,
          null,
          -0.3208154042981384,
          -0.4899248385010594,
          null,
          -0.3208154042981384,
          -0.4296202422665311,
          null,
          -0.3208154042981384,
          -0.5459379480811657,
          null,
          -0.3208154042981384,
          -0.40893308221706975,
          null,
          -0.3208154042981384,
          -0.38873084781554995,
          null,
          -0.3208154042981384,
          -0.14194724331220773,
          null,
          -0.3208154042981384,
          -0.053759699957956666,
          null,
          -0.3208154042981384,
          0.004796225670227967,
          null,
          -0.3208154042981384,
          -0.2399862787992981,
          null,
          -0.3208154042981384,
          -0.11405143584397438,
          null,
          -0.3208154042981384,
          -0.49212713173638356,
          null,
          -0.3208154042981384,
          -0.040025173865419254,
          null,
          -0.3208154042981384,
          -0.11218068575932205,
          null,
          -0.3208154042981384,
          -0.15149788890601637,
          null,
          -0.3208154042981384,
          0.02082960250274448,
          null,
          -0.3208154042981384,
          -0.531985002452753,
          null,
          -0.3208154042981384,
          -0.38903645539694476,
          null,
          -0.3208154042981384,
          -0.09977442965699199,
          null,
          -0.3208154042981384,
          -0.24361558371944633,
          null,
          -0.3208154042981384,
          -0.1028025218883454,
          null,
          -0.3208154042981384,
          -0.05135599702914999,
          null,
          -0.3208154042981384,
          -0.3853825972589959,
          null,
          -0.3208154042981384,
          -0.07847276810818929,
          null,
          -0.3208154042981384,
          0.003959167754108669,
          null,
          -0.3208154042981384,
          -0.07101442379407753,
          null,
          -0.3208154042981384,
          -0.009530339702222727,
          null,
          -0.3208154042981384,
          -0.5525358569421318,
          null,
          -0.3208154042981384,
          -0.01427809147530681,
          null,
          -0.3208154042981384,
          -0.37906072851730943,
          null,
          -0.3208154042981384,
          -0.40725827869022335,
          null,
          -0.3208154042981384,
          -0.012687067595361928,
          null,
          -0.3208154042981384,
          0.022234388728025408,
          null,
          -0.3208154042981384,
          -0.4569553550367366,
          null,
          -0.3208154042981384,
          -0.5035993029912648,
          null,
          -0.3208154042981384,
          -0.5002937110045492,
          null,
          -0.3208154042981384,
          -0.3653453963077434,
          null,
          -0.3208154042981384,
          -0.4724671279345245,
          null,
          -0.3208154042981384,
          -0.1429673186774169,
          null,
          -0.3208154042981384,
          -0.4809306298582555,
          null,
          -0.3208154042981384,
          -0.15208175317010764,
          null,
          -0.3208154042981384,
          -0.01442218494560287,
          null,
          -0.3208154042981384,
          -0.9604904782587602,
          null,
          -0.3208154042981384,
          -0.23341369387300834,
          null,
          -0.3208154042981384,
          -0.04272354196556051,
          null,
          -0.3208154042981384,
          -0.9349552589864427,
          null,
          -0.02445774320195263,
          0.131437001115736,
          null,
          0.131437001115736,
          -0.20193393873126125,
          null,
          0.131437001115736,
          -0.08016896670757859,
          null,
          0.131437001115736,
          0.3144503381265736,
          null,
          0.131437001115736,
          -0.023243499902470287,
          null,
          0.131437001115736,
          -0.043760667310630025,
          null,
          0.131437001115736,
          -0.1312043098077715,
          null,
          0.131437001115736,
          -0.01374978127994779,
          null,
          0.131437001115736,
          -0.0974226534539,
          null,
          0.131437001115736,
          0.00008302558798677041,
          null,
          0.131437001115736,
          -0.23341369387300834,
          null,
          0.131437001115736,
          -0.1954969922984406,
          null,
          0.131437001115736,
          0.33440207173968667,
          null,
          0.131437001115736,
          0.3359761977592722,
          null,
          0.131437001115736,
          0.34738425742260226,
          null,
          0.131437001115736,
          0.4743166767902546,
          null,
          0.131437001115736,
          0.003959167754108669,
          null,
          0.131437001115736,
          0.37927400822392,
          null,
          0.131437001115736,
          0.3810387866087023,
          null,
          0.131437001115736,
          -0.012687067595361928,
          null,
          0.131437001115736,
          0.2895872813232038,
          null,
          0.131437001115736,
          0.2438107610059993,
          null,
          0.131437001115736,
          0.2852197034244333,
          null,
          0.131437001115736,
          0.7113114943006442,
          null,
          0.131437001115736,
          -0.07101442379407753,
          null,
          0.131437001115736,
          -0.1887879139782727,
          null,
          0.131437001115736,
          -0.1028025218883454,
          null,
          0.131437001115736,
          0.6075883321298463,
          null,
          0.131437001115736,
          0.5354702702025909,
          null,
          0.131437001115736,
          -0.03231023529311494,
          null,
          0.131437001115736,
          -0.11836455473931728,
          null,
          0.131437001115736,
          0.02850089181614657,
          null,
          0.131437001115736,
          0.02082960250274448,
          null,
          0.131437001115736,
          -0.01427809147530681,
          null,
          0.131437001115736,
          -0.053759699957956666,
          null,
          0.131437001115736,
          0.004796225670227967,
          null,
          0.131437001115736,
          -0.05135599702914999,
          null,
          0.131437001115736,
          -0.15149788890601637,
          null,
          0.131437001115736,
          -0.1429673186774169,
          null,
          0.131437001115736,
          -0.09977442965699199,
          null,
          0.131437001115736,
          -0.11218068575932205,
          null,
          0.131437001115736,
          -0.009530339702222727,
          null,
          0.131437001115736,
          -0.040025173865419254,
          null,
          0.131437001115736,
          -0.07847276810818929,
          null,
          0.131437001115736,
          0.5313197125377471,
          null,
          0.131437001115736,
          -0.14194724331220773,
          null,
          0.131437001115736,
          0.022234388728025408,
          null,
          0.131437001115736,
          -0.2399862787992981,
          null,
          0.131437001115736,
          0.5918860056238234,
          null,
          0.131437001115736,
          -0.11405143584397438,
          null,
          0.131437001115736,
          -0.01442218494560287,
          null,
          0.131437001115736,
          -0.15208175317010764,
          null,
          0.131437001115736,
          0.7391390196481874,
          null,
          0.131437001115736,
          0.46560866804407663,
          null,
          0.131437001115736,
          0.5527140918662434,
          null,
          0.131437001115736,
          -0.04272354196556051,
          null,
          0.131437001115736,
          0.3755332016572125,
          null,
          0.131437001115736,
          0.46217392557896264,
          null,
          0.131437001115736,
          0.3007654065446715,
          null,
          0.131437001115736,
          0.4546295100770713,
          null,
          0.131437001115736,
          0.4884621303280117,
          null,
          0.131437001115736,
          1,
          null,
          0.131437001115736,
          0.29553858577987163,
          null,
          0.131437001115736,
          0.31394309400974885,
          null,
          0.131437001115736,
          -0.1405997439170141,
          null,
          0.131437001115736,
          -0.24361558371944633,
          null,
          0.131437001115736,
          0.6479411733993501,
          null,
          0.131437001115736,
          0.5320128653076739,
          null,
          0.131437001115736,
          0.2705806228680139,
          null,
          0.131437001115736,
          0.21823229438699024,
          null,
          0.131437001115736,
          -0.17741551087978114,
          null,
          0.131437001115736,
          0.447867269220647,
          null,
          0.131437001115736,
          0.3687334540589414,
          null,
          0.131437001115736,
          0.8384851977853575,
          null,
          0.131437001115736,
          0.5238446834443087,
          null
         ]
        },
        {
         "hoverinfo": "text",
         "marker": {
          "color": "rgba(222,45,38,0.8)",
          "size": [
           83.79309484052851,
           13.862943611198906,
           21.972245773362197,
           86.61466680572661,
           21.972245773362197,
           21.972245773362197,
           13.862943611198906,
           21.972245773362197,
           21.972245773362197,
           21.972245773362197,
           13.862943611198906,
           21.972245773362197,
           13.862943611198906,
           21.972245773362197,
           13.862943611198906,
           21.972245773362197,
           21.972245773362197,
           21.972245773362197,
           21.972245773362197,
           21.972245773362197,
           13.862943611198906,
           21.972245773362197,
           13.862943611198906,
           13.862943611198906,
           21.972245773362197,
           13.862943611198906,
           21.972245773362197,
           13.862943611198906,
           13.862943611198906,
           21.972245773362197,
           13.862943611198906,
           13.862943611198906,
           13.862943611198906,
           13.862943611198906,
           21.972245773362197,
           21.972245773362197,
           21.972245773362197,
           21.972245773362197,
           13.862943611198906,
           13.862943611198906,
           13.862943611198906,
           13.862943611198906,
           13.862943611198906,
           13.862943611198906,
           13.862943611198906,
           21.972245773362197,
           21.972245773362197,
           21.972245773362197,
           21.972245773362197,
           21.972245773362197,
           13.862943611198906,
           21.972245773362197,
           21.972245773362197,
           21.972245773362197,
           21.972245773362197,
           13.862943611198906,
           13.862943611198906,
           21.972245773362197,
           21.972245773362197,
           21.972245773362197,
           21.972245773362197,
           13.862943611198906,
           21.972245773362197,
           21.972245773362197,
           21.972245773362197,
           13.862943611198906,
           13.862943611198906,
           13.862943611198906,
           21.972245773362197,
           13.862943611198906,
           13.862943611198906,
           13.862943611198906,
           13.862943611198906,
           13.862943611198906,
           13.862943611198906,
           13.862943611198906,
           21.972245773362197,
           13.862943611198906,
           21.972245773362197,
           13.862943611198906,
           13.862943611198906,
           13.862943611198906,
           21.972245773362197,
           13.862943611198906,
           13.862943611198906,
           13.862943611198906,
           13.862943611198906,
           13.862943611198906,
           13.862943611198906,
           13.862943611198906,
           13.862943611198906,
           13.862943611198906,
           13.862943611198906,
           13.862943611198906,
           13.862943611198906,
           13.862943611198906,
           13.862943611198906,
           13.862943611198906,
           13.862943611198906,
           13.862943611198906,
           13.862943611198906
          ]
         },
         "mode": "markers",
         "text": [
          "JFK",
          "LAX",
          "MIA",
          "LGA",
          "RDU",
          "DFW",
          "STL",
          "ORD",
          "DCA",
          "CLT",
          "PHX",
          "EGE",
          "SFO",
          "BNA",
          "AUS",
          "BOS",
          "CMH",
          "IND",
          "RIC",
          "CLE",
          "AVL",
          "ORF",
          "TUL",
          "LIT",
          "ORH",
          "SDF",
          "DTW",
          "MEM",
          "OMA",
          "MSP",
          "OKC",
          "XNA",
          "EYW",
          "CHO",
          "MCI",
          "CVG",
          "PIT",
          "ATL",
          "GSO",
          "ILM",
          "STT",
          "SNA",
          "SEA",
          "SAN",
          "PDX",
          "BUF",
          "PBI",
          "MCO",
          "SYR",
          "ROC",
          "LAS",
          "TPA",
          "JAX",
          "RSW",
          "FLL",
          "SJU",
          "SMF",
          "SRQ",
          "BTV",
          "SAV",
          "MSY",
          "PSP",
          "IAH",
          "DEN",
          "CHS",
          "BQN",
          "ONT",
          "BUR",
          "MKE",
          "SLC",
          "SAT",
          "PSE",
          "RNO",
          "BZN",
          "HNL",
          "GSP",
          "PWM",
          "ALB",
          "BGR",
          "PVD",
          "BWI",
          "MSN",
          "IAD",
          "MYR",
          "DAL",
          "MDW",
          "HOU",
          "DAY",
          "ROA",
          "BDL",
          "JAC",
          "MTJ",
          "ITH",
          "SCE",
          "TYS",
          "DSM",
          "BHM",
          "GRR",
          "CAE",
          "BGM",
          "LEX"
         ],
         "type": "scatter",
         "x": [
          -0.007358167354035403,
          0.03517872851283113,
          -0.021785802205638326,
          -0.005863070751985911,
          -0.2695756339290234,
          0.004159296988179389,
          0.2942239096045431,
          -0.17432160819310674,
          0.42409074683440184,
          -0.20518773956246383,
          0.1843838804266937,
          -0.03016973141217022,
          -0.01261196272212665,
          0.12389159994740993,
          0.003940893629387868,
          0.49060884357334683,
          -0.27490299498928195,
          -0.18046209580306238,
          -0.3787251152001452,
          0.2094406483504059,
          -0.3102720817204747,
          0.3613304823600406,
          0.10467135738509512,
          0.11281055896287778,
          0.5650987519992221,
          0.19545981066995224,
          -0.26978275243344774,
          0.1947145363302915,
          -0.16304405677454017,
          -0.026282966947795208,
          -0.01150351007780968,
          0.19169964098334585,
          -0.22805530564703835,
          0.18860145419272858,
          -0.027026990473791764,
          -0.1922787658931093,
          -0.3491018446392596,
          0.1489835458923185,
          -0.0615766753431708,
          0.2006734294198667,
          -0.1627162136146433,
          0.01195127815953399,
          0.0075696337710449875,
          -0.12118970886299071,
          -0.08219992127348384,
          0.3487917897175255,
          0.11415504513002224,
          0.08653645705985542,
          -0.47470176842042716,
          -0.4109538353755214,
          0.13039800037944818,
          0.11188750298815615,
          0.13311681948680795,
          0.07118493974142533,
          -0.01621624087248061,
          0.07370686397215404,
          -0.07128059335762146,
          0.03136405737546416,
          0.3613747950277663,
          -0.15123164787222781,
          -0.08671554859575516,
          0.17889256168661075,
          -0.035640868892248496,
          -0.03224242313801749,
          0.21499508713603638,
          -0.04409196210518669,
          0.12782427692516984,
          -0.1634508996114984,
          -0.17428635198861084,
          0.1538263339824318,
          -0.14746067729897952,
          -0.1391350241355366,
          -0.13701452939852754,
          0.1310328211480401,
          -0.008250079065771868,
          0.13219725105947983,
          0.38086778249643943,
          -0.6230294515180721,
          0.30849911975837324,
          0.4066048996806325,
          -0.06254719726322391,
          0.05264953771997798,
          -0.44098504165313773,
          -0.17155752476322822,
          0.006178138695722939,
          -0.1473572092034161,
          -0.1801778295965907,
          -0.2392804111018647,
          -0.3167578543162424,
          -0.08847461250699283,
          -0.11104358677375635,
          -0.08672046884349995,
          0.16419094253891095,
          -0.4258899380880586,
          -0.06508876317879997,
          0.20926064841888264,
          0.29675686577677274,
          0.29944795418379255,
          0.3119683892477496,
          -0.2747608288992306,
          0.0011459743318555967
         ],
         "y": [
          -0.3208154042981384,
          -0.3978938616308718,
          -0.02445774320195263,
          0.131437001115736,
          -0.20193393873126125,
          -0.08016896670757859,
          0.3144503381265736,
          -0.023243499902470287,
          -0.043760667310630025,
          -0.1312043098077715,
          -0.4112133886160476,
          -0.1405997439170141,
          -0.4713445976502682,
          -0.01374978127994779,
          -0.6027392384034994,
          0.02850089181614657,
          -0.0974226534539,
          0.00008302558798677041,
          -0.23341369387300834,
          -0.1954969922984406,
          0.33440207173968667,
          -0.03231023529311494,
          0.3359761977592722,
          0.34738425742260226,
          -0.17741551087978114,
          0.4743166767902546,
          0.003959167754108669,
          0.37927400822392,
          0.3810387866087023,
          -0.012687067595361928,
          0.2895872813232038,
          0.2438107610059993,
          0.2852197034244333,
          0.7113114943006442,
          -0.07101442379407753,
          -0.11836455473931728,
          -0.1887879139782727,
          -0.1028025218883454,
          0.6075883321298463,
          0.5354702702025909,
          -0.4899248385010594,
          -0.4296202422665311,
          -0.5459379480811657,
          -0.40893308221706975,
          -0.38873084781554995,
          -0.14194724331220773,
          -0.053759699957956666,
          0.004796225670227967,
          -0.2399862787992981,
          -0.11405143584397438,
          -0.49212713173638356,
          -0.040025173865419254,
          -0.11218068575932205,
          -0.15149788890601637,
          0.02082960250274448,
          -0.531985002452753,
          -0.38903645539694476,
          -0.09977442965699199,
          -0.24361558371944633,
          -0.01427809147530681,
          -0.05135599702914999,
          -0.3853825972589959,
          -0.07847276810818929,
          -0.1429673186774169,
          -0.009530339702222727,
          -0.5525358569421318,
          -0.37906072851730943,
          -0.40725827869022335,
          0.022234388728025408,
          -0.4569553550367366,
          -0.5035993029912648,
          -0.5002937110045492,
          -0.3653453963077434,
          -0.4724671279345245,
          -0.4809306298582555,
          0.5313197125377471,
          -0.15208175317010764,
          0.5918860056238234,
          -0.01442218494560287,
          0.7391390196481874,
          -0.9604904782587602,
          0.46560866804407663,
          -0.04272354196556051,
          0.5527140918662434,
          0.3755332016572125,
          0.46217392557896264,
          0.3007654065446715,
          0.4546295100770713,
          0.4884621303280117,
          1,
          0.29553858577987163,
          0.31394309400974885,
          -0.9349552589864427,
          0.6479411733993501,
          0.5320128653076739,
          0.2705806228680139,
          0.21823229438699024,
          0.447867269220647,
          0.3687334540589414,
          0.8384851977853575,
          0.5238446834443087
         ]
        }
       ],
       "layout": {
        "annotations": [
         {
          "font": {
           "size": 12
          },
          "showarrow": false,
          "text": "JFK",
          "x": -0.007358167354035403,
          "y": -0.3208154042981384
         },
         {
          "font": {
           "size": 12
          },
          "showarrow": false,
          "text": "LAX",
          "x": 0.03517872851283113,
          "y": -0.3978938616308718
         },
         {
          "font": {
           "size": 12
          },
          "showarrow": false,
          "text": "MIA",
          "x": -0.021785802205638326,
          "y": -0.02445774320195263
         },
         {
          "font": {
           "size": 12
          },
          "showarrow": false,
          "text": "LGA",
          "x": -0.005863070751985911,
          "y": 0.131437001115736
         },
         {
          "font": {
           "size": 12
          },
          "showarrow": false,
          "text": "RDU",
          "x": -0.2695756339290234,
          "y": -0.20193393873126125
         },
         {
          "font": {
           "size": 12
          },
          "showarrow": false,
          "text": "DFW",
          "x": 0.004159296988179389,
          "y": -0.08016896670757859
         },
         {
          "font": {
           "size": 12
          },
          "showarrow": false,
          "text": "STL",
          "x": 0.2942239096045431,
          "y": 0.3144503381265736
         },
         {
          "font": {
           "size": 12
          },
          "showarrow": false,
          "text": "ORD",
          "x": -0.17432160819310674,
          "y": -0.023243499902470287
         },
         {
          "font": {
           "size": 12
          },
          "showarrow": false,
          "text": "DCA",
          "x": 0.42409074683440184,
          "y": -0.043760667310630025
         },
         {
          "font": {
           "size": 12
          },
          "showarrow": false,
          "text": "CLT",
          "x": -0.20518773956246383,
          "y": -0.1312043098077715
         },
         {
          "font": {
           "size": 12
          },
          "showarrow": false,
          "text": "PHX",
          "x": 0.1843838804266937,
          "y": -0.4112133886160476
         },
         {
          "font": {
           "size": 12
          },
          "showarrow": false,
          "text": "EGE",
          "x": -0.03016973141217022,
          "y": -0.1405997439170141
         },
         {
          "font": {
           "size": 12
          },
          "showarrow": false,
          "text": "SFO",
          "x": -0.01261196272212665,
          "y": -0.4713445976502682
         },
         {
          "font": {
           "size": 12
          },
          "showarrow": false,
          "text": "BNA",
          "x": 0.12389159994740993,
          "y": -0.01374978127994779
         },
         {
          "font": {
           "size": 12
          },
          "showarrow": false,
          "text": "AUS",
          "x": 0.003940893629387868,
          "y": -0.6027392384034994
         },
         {
          "font": {
           "size": 12
          },
          "showarrow": false,
          "text": "BOS",
          "x": 0.49060884357334683,
          "y": 0.02850089181614657
         },
         {
          "font": {
           "size": 12
          },
          "showarrow": false,
          "text": "CMH",
          "x": -0.27490299498928195,
          "y": -0.0974226534539
         },
         {
          "font": {
           "size": 12
          },
          "showarrow": false,
          "text": "IND",
          "x": -0.18046209580306238,
          "y": 0.00008302558798677041
         },
         {
          "font": {
           "size": 12
          },
          "showarrow": false,
          "text": "RIC",
          "x": -0.3787251152001452,
          "y": -0.23341369387300834
         },
         {
          "font": {
           "size": 12
          },
          "showarrow": false,
          "text": "CLE",
          "x": 0.2094406483504059,
          "y": -0.1954969922984406
         },
         {
          "font": {
           "size": 12
          },
          "showarrow": false,
          "text": "AVL",
          "x": -0.3102720817204747,
          "y": 0.33440207173968667
         },
         {
          "font": {
           "size": 12
          },
          "showarrow": false,
          "text": "ORF",
          "x": 0.3613304823600406,
          "y": -0.03231023529311494
         },
         {
          "font": {
           "size": 12
          },
          "showarrow": false,
          "text": "TUL",
          "x": 0.10467135738509512,
          "y": 0.3359761977592722
         },
         {
          "font": {
           "size": 12
          },
          "showarrow": false,
          "text": "LIT",
          "x": 0.11281055896287778,
          "y": 0.34738425742260226
         },
         {
          "font": {
           "size": 12
          },
          "showarrow": false,
          "text": "ORH",
          "x": 0.5650987519992221,
          "y": -0.17741551087978114
         },
         {
          "font": {
           "size": 12
          },
          "showarrow": false,
          "text": "SDF",
          "x": 0.19545981066995224,
          "y": 0.4743166767902546
         },
         {
          "font": {
           "size": 12
          },
          "showarrow": false,
          "text": "DTW",
          "x": -0.26978275243344774,
          "y": 0.003959167754108669
         },
         {
          "font": {
           "size": 12
          },
          "showarrow": false,
          "text": "MEM",
          "x": 0.1947145363302915,
          "y": 0.37927400822392
         },
         {
          "font": {
           "size": 12
          },
          "showarrow": false,
          "text": "OMA",
          "x": -0.16304405677454017,
          "y": 0.3810387866087023
         },
         {
          "font": {
           "size": 12
          },
          "showarrow": false,
          "text": "MSP",
          "x": -0.026282966947795208,
          "y": -0.012687067595361928
         },
         {
          "font": {
           "size": 12
          },
          "showarrow": false,
          "text": "OKC",
          "x": -0.01150351007780968,
          "y": 0.2895872813232038
         },
         {
          "font": {
           "size": 12
          },
          "showarrow": false,
          "text": "XNA",
          "x": 0.19169964098334585,
          "y": 0.2438107610059993
         },
         {
          "font": {
           "size": 12
          },
          "showarrow": false,
          "text": "EYW",
          "x": -0.22805530564703835,
          "y": 0.2852197034244333
         },
         {
          "font": {
           "size": 12
          },
          "showarrow": false,
          "text": "CHO",
          "x": 0.18860145419272858,
          "y": 0.7113114943006442
         },
         {
          "font": {
           "size": 12
          },
          "showarrow": false,
          "text": "MCI",
          "x": -0.027026990473791764,
          "y": -0.07101442379407753
         },
         {
          "font": {
           "size": 12
          },
          "showarrow": false,
          "text": "CVG",
          "x": -0.1922787658931093,
          "y": -0.11836455473931728
         },
         {
          "font": {
           "size": 12
          },
          "showarrow": false,
          "text": "PIT",
          "x": -0.3491018446392596,
          "y": -0.1887879139782727
         },
         {
          "font": {
           "size": 12
          },
          "showarrow": false,
          "text": "ATL",
          "x": 0.1489835458923185,
          "y": -0.1028025218883454
         },
         {
          "font": {
           "size": 12
          },
          "showarrow": false,
          "text": "GSO",
          "x": -0.0615766753431708,
          "y": 0.6075883321298463
         },
         {
          "font": {
           "size": 12
          },
          "showarrow": false,
          "text": "ILM",
          "x": 0.2006734294198667,
          "y": 0.5354702702025909
         },
         {
          "font": {
           "size": 12
          },
          "showarrow": false,
          "text": "STT",
          "x": -0.1627162136146433,
          "y": -0.4899248385010594
         },
         {
          "font": {
           "size": 12
          },
          "showarrow": false,
          "text": "SNA",
          "x": 0.01195127815953399,
          "y": -0.4296202422665311
         },
         {
          "font": {
           "size": 12
          },
          "showarrow": false,
          "text": "SEA",
          "x": 0.0075696337710449875,
          "y": -0.5459379480811657
         },
         {
          "font": {
           "size": 12
          },
          "showarrow": false,
          "text": "SAN",
          "x": -0.12118970886299071,
          "y": -0.40893308221706975
         },
         {
          "font": {
           "size": 12
          },
          "showarrow": false,
          "text": "PDX",
          "x": -0.08219992127348384,
          "y": -0.38873084781554995
         },
         {
          "font": {
           "size": 12
          },
          "showarrow": false,
          "text": "BUF",
          "x": 0.3487917897175255,
          "y": -0.14194724331220773
         },
         {
          "font": {
           "size": 12
          },
          "showarrow": false,
          "text": "PBI",
          "x": 0.11415504513002224,
          "y": -0.053759699957956666
         },
         {
          "font": {
           "size": 12
          },
          "showarrow": false,
          "text": "MCO",
          "x": 0.08653645705985542,
          "y": 0.004796225670227967
         },
         {
          "font": {
           "size": 12
          },
          "showarrow": false,
          "text": "SYR",
          "x": -0.47470176842042716,
          "y": -0.2399862787992981
         },
         {
          "font": {
           "size": 12
          },
          "showarrow": false,
          "text": "ROC",
          "x": -0.4109538353755214,
          "y": -0.11405143584397438
         },
         {
          "font": {
           "size": 12
          },
          "showarrow": false,
          "text": "LAS",
          "x": 0.13039800037944818,
          "y": -0.49212713173638356
         },
         {
          "font": {
           "size": 12
          },
          "showarrow": false,
          "text": "TPA",
          "x": 0.11188750298815615,
          "y": -0.040025173865419254
         },
         {
          "font": {
           "size": 12
          },
          "showarrow": false,
          "text": "JAX",
          "x": 0.13311681948680795,
          "y": -0.11218068575932205
         },
         {
          "font": {
           "size": 12
          },
          "showarrow": false,
          "text": "RSW",
          "x": 0.07118493974142533,
          "y": -0.15149788890601637
         },
         {
          "font": {
           "size": 12
          },
          "showarrow": false,
          "text": "FLL",
          "x": -0.01621624087248061,
          "y": 0.02082960250274448
         },
         {
          "font": {
           "size": 12
          },
          "showarrow": false,
          "text": "SJU",
          "x": 0.07370686397215404,
          "y": -0.531985002452753
         },
         {
          "font": {
           "size": 12
          },
          "showarrow": false,
          "text": "SMF",
          "x": -0.07128059335762146,
          "y": -0.38903645539694476
         },
         {
          "font": {
           "size": 12
          },
          "showarrow": false,
          "text": "SRQ",
          "x": 0.03136405737546416,
          "y": -0.09977442965699199
         },
         {
          "font": {
           "size": 12
          },
          "showarrow": false,
          "text": "BTV",
          "x": 0.3613747950277663,
          "y": -0.24361558371944633
         },
         {
          "font": {
           "size": 12
          },
          "showarrow": false,
          "text": "SAV",
          "x": -0.15123164787222781,
          "y": -0.01427809147530681
         },
         {
          "font": {
           "size": 12
          },
          "showarrow": false,
          "text": "MSY",
          "x": -0.08671554859575516,
          "y": -0.05135599702914999
         },
         {
          "font": {
           "size": 12
          },
          "showarrow": false,
          "text": "PSP",
          "x": 0.17889256168661075,
          "y": -0.3853825972589959
         },
         {
          "font": {
           "size": 12
          },
          "showarrow": false,
          "text": "IAH",
          "x": -0.035640868892248496,
          "y": -0.07847276810818929
         },
         {
          "font": {
           "size": 12
          },
          "showarrow": false,
          "text": "DEN",
          "x": -0.03224242313801749,
          "y": -0.1429673186774169
         },
         {
          "font": {
           "size": 12
          },
          "showarrow": false,
          "text": "CHS",
          "x": 0.21499508713603638,
          "y": -0.009530339702222727
         },
         {
          "font": {
           "size": 12
          },
          "showarrow": false,
          "text": "BQN",
          "x": -0.04409196210518669,
          "y": -0.5525358569421318
         },
         {
          "font": {
           "size": 12
          },
          "showarrow": false,
          "text": "ONT",
          "x": 0.12782427692516984,
          "y": -0.37906072851730943
         },
         {
          "font": {
           "size": 12
          },
          "showarrow": false,
          "text": "BUR",
          "x": -0.1634508996114984,
          "y": -0.40725827869022335
         },
         {
          "font": {
           "size": 12
          },
          "showarrow": false,
          "text": "MKE",
          "x": -0.17428635198861084,
          "y": 0.022234388728025408
         },
         {
          "font": {
           "size": 12
          },
          "showarrow": false,
          "text": "SLC",
          "x": 0.1538263339824318,
          "y": -0.4569553550367366
         },
         {
          "font": {
           "size": 12
          },
          "showarrow": false,
          "text": "SAT",
          "x": -0.14746067729897952,
          "y": -0.5035993029912648
         },
         {
          "font": {
           "size": 12
          },
          "showarrow": false,
          "text": "PSE",
          "x": -0.1391350241355366,
          "y": -0.5002937110045492
         },
         {
          "font": {
           "size": 12
          },
          "showarrow": false,
          "text": "RNO",
          "x": -0.13701452939852754,
          "y": -0.3653453963077434
         },
         {
          "font": {
           "size": 12
          },
          "showarrow": false,
          "text": "BZN",
          "x": 0.1310328211480401,
          "y": -0.4724671279345245
         },
         {
          "font": {
           "size": 12
          },
          "showarrow": false,
          "text": "HNL",
          "x": -0.008250079065771868,
          "y": -0.4809306298582555
         },
         {
          "font": {
           "size": 12
          },
          "showarrow": false,
          "text": "GSP",
          "x": 0.13219725105947983,
          "y": 0.5313197125377471
         },
         {
          "font": {
           "size": 12
          },
          "showarrow": false,
          "text": "PWM",
          "x": 0.38086778249643943,
          "y": -0.15208175317010764
         },
         {
          "font": {
           "size": 12
          },
          "showarrow": false,
          "text": "ALB",
          "x": -0.6230294515180721,
          "y": 0.5918860056238234
         },
         {
          "font": {
           "size": 12
          },
          "showarrow": false,
          "text": "BGR",
          "x": 0.30849911975837324,
          "y": -0.01442218494560287
         },
         {
          "font": {
           "size": 12
          },
          "showarrow": false,
          "text": "PVD",
          "x": 0.4066048996806325,
          "y": 0.7391390196481874
         },
         {
          "font": {
           "size": 12
          },
          "showarrow": false,
          "text": "BWI",
          "x": -0.06254719726322391,
          "y": -0.9604904782587602
         },
         {
          "font": {
           "size": 12
          },
          "showarrow": false,
          "text": "MSN",
          "x": 0.05264953771997798,
          "y": 0.46560866804407663
         },
         {
          "font": {
           "size": 12
          },
          "showarrow": false,
          "text": "IAD",
          "x": -0.44098504165313773,
          "y": -0.04272354196556051
         },
         {
          "font": {
           "size": 12
          },
          "showarrow": false,
          "text": "MYR",
          "x": -0.17155752476322822,
          "y": 0.5527140918662434
         },
         {
          "font": {
           "size": 12
          },
          "showarrow": false,
          "text": "DAL",
          "x": 0.006178138695722939,
          "y": 0.3755332016572125
         },
         {
          "font": {
           "size": 12
          },
          "showarrow": false,
          "text": "MDW",
          "x": -0.1473572092034161,
          "y": 0.46217392557896264
         },
         {
          "font": {
           "size": 12
          },
          "showarrow": false,
          "text": "HOU",
          "x": -0.1801778295965907,
          "y": 0.3007654065446715
         },
         {
          "font": {
           "size": 12
          },
          "showarrow": false,
          "text": "DAY",
          "x": -0.2392804111018647,
          "y": 0.4546295100770713
         },
         {
          "font": {
           "size": 12
          },
          "showarrow": false,
          "text": "ROA",
          "x": -0.3167578543162424,
          "y": 0.4884621303280117
         },
         {
          "font": {
           "size": 12
          },
          "showarrow": false,
          "text": "BDL",
          "x": -0.08847461250699283,
          "y": 1
         },
         {
          "font": {
           "size": 12
          },
          "showarrow": false,
          "text": "JAC",
          "x": -0.11104358677375635,
          "y": 0.29553858577987163
         },
         {
          "font": {
           "size": 12
          },
          "showarrow": false,
          "text": "MTJ",
          "x": -0.08672046884349995,
          "y": 0.31394309400974885
         },
         {
          "font": {
           "size": 12
          },
          "showarrow": false,
          "text": "ITH",
          "x": 0.16419094253891095,
          "y": -0.9349552589864427
         },
         {
          "font": {
           "size": 12
          },
          "showarrow": false,
          "text": "SCE",
          "x": -0.4258899380880586,
          "y": 0.6479411733993501
         },
         {
          "font": {
           "size": 12
          },
          "showarrow": false,
          "text": "TYS",
          "x": -0.06508876317879997,
          "y": 0.5320128653076739
         },
         {
          "font": {
           "size": 12
          },
          "showarrow": false,
          "text": "DSM",
          "x": 0.20926064841888264,
          "y": 0.2705806228680139
         },
         {
          "font": {
           "size": 12
          },
          "showarrow": false,
          "text": "BHM",
          "x": 0.29675686577677274,
          "y": 0.21823229438699024
         },
         {
          "font": {
           "size": 12
          },
          "showarrow": false,
          "text": "GRR",
          "x": 0.29944795418379255,
          "y": 0.447867269220647
         },
         {
          "font": {
           "size": 12
          },
          "showarrow": false,
          "text": "CAE",
          "x": 0.3119683892477496,
          "y": 0.3687334540589414
         },
         {
          "font": {
           "size": 12
          },
          "showarrow": false,
          "text": "BGM",
          "x": -0.2747608288992306,
          "y": 0.8384851977853575
         },
         {
          "font": {
           "size": 12
          },
          "showarrow": false,
          "text": "LEX",
          "x": 0.0011459743318555967,
          "y": 0.5238446834443087
         }
        ],
        "autosize": false,
        "showlegend": false,
        "template": {
         "data": {
          "bar": [
           {
            "error_x": {
             "color": "#2a3f5f"
            },
            "error_y": {
             "color": "#2a3f5f"
            },
            "marker": {
             "line": {
              "color": "#E5ECF6",
              "width": 0.5
             },
             "pattern": {
              "fillmode": "overlay",
              "size": 10,
              "solidity": 0.2
             }
            },
            "type": "bar"
           }
          ],
          "barpolar": [
           {
            "marker": {
             "line": {
              "color": "#E5ECF6",
              "width": 0.5
             },
             "pattern": {
              "fillmode": "overlay",
              "size": 10,
              "solidity": 0.2
             }
            },
            "type": "barpolar"
           }
          ],
          "carpet": [
           {
            "aaxis": {
             "endlinecolor": "#2a3f5f",
             "gridcolor": "white",
             "linecolor": "white",
             "minorgridcolor": "white",
             "startlinecolor": "#2a3f5f"
            },
            "baxis": {
             "endlinecolor": "#2a3f5f",
             "gridcolor": "white",
             "linecolor": "white",
             "minorgridcolor": "white",
             "startlinecolor": "#2a3f5f"
            },
            "type": "carpet"
           }
          ],
          "choropleth": [
           {
            "colorbar": {
             "outlinewidth": 0,
             "ticks": ""
            },
            "type": "choropleth"
           }
          ],
          "contour": [
           {
            "colorbar": {
             "outlinewidth": 0,
             "ticks": ""
            },
            "colorscale": [
             [
              0,
              "#0d0887"
             ],
             [
              0.1111111111111111,
              "#46039f"
             ],
             [
              0.2222222222222222,
              "#7201a8"
             ],
             [
              0.3333333333333333,
              "#9c179e"
             ],
             [
              0.4444444444444444,
              "#bd3786"
             ],
             [
              0.5555555555555556,
              "#d8576b"
             ],
             [
              0.6666666666666666,
              "#ed7953"
             ],
             [
              0.7777777777777778,
              "#fb9f3a"
             ],
             [
              0.8888888888888888,
              "#fdca26"
             ],
             [
              1,
              "#f0f921"
             ]
            ],
            "type": "contour"
           }
          ],
          "contourcarpet": [
           {
            "colorbar": {
             "outlinewidth": 0,
             "ticks": ""
            },
            "type": "contourcarpet"
           }
          ],
          "heatmap": [
           {
            "colorbar": {
             "outlinewidth": 0,
             "ticks": ""
            },
            "colorscale": [
             [
              0,
              "#0d0887"
             ],
             [
              0.1111111111111111,
              "#46039f"
             ],
             [
              0.2222222222222222,
              "#7201a8"
             ],
             [
              0.3333333333333333,
              "#9c179e"
             ],
             [
              0.4444444444444444,
              "#bd3786"
             ],
             [
              0.5555555555555556,
              "#d8576b"
             ],
             [
              0.6666666666666666,
              "#ed7953"
             ],
             [
              0.7777777777777778,
              "#fb9f3a"
             ],
             [
              0.8888888888888888,
              "#fdca26"
             ],
             [
              1,
              "#f0f921"
             ]
            ],
            "type": "heatmap"
           }
          ],
          "heatmapgl": [
           {
            "colorbar": {
             "outlinewidth": 0,
             "ticks": ""
            },
            "colorscale": [
             [
              0,
              "#0d0887"
             ],
             [
              0.1111111111111111,
              "#46039f"
             ],
             [
              0.2222222222222222,
              "#7201a8"
             ],
             [
              0.3333333333333333,
              "#9c179e"
             ],
             [
              0.4444444444444444,
              "#bd3786"
             ],
             [
              0.5555555555555556,
              "#d8576b"
             ],
             [
              0.6666666666666666,
              "#ed7953"
             ],
             [
              0.7777777777777778,
              "#fb9f3a"
             ],
             [
              0.8888888888888888,
              "#fdca26"
             ],
             [
              1,
              "#f0f921"
             ]
            ],
            "type": "heatmapgl"
           }
          ],
          "histogram": [
           {
            "marker": {
             "pattern": {
              "fillmode": "overlay",
              "size": 10,
              "solidity": 0.2
             }
            },
            "type": "histogram"
           }
          ],
          "histogram2d": [
           {
            "colorbar": {
             "outlinewidth": 0,
             "ticks": ""
            },
            "colorscale": [
             [
              0,
              "#0d0887"
             ],
             [
              0.1111111111111111,
              "#46039f"
             ],
             [
              0.2222222222222222,
              "#7201a8"
             ],
             [
              0.3333333333333333,
              "#9c179e"
             ],
             [
              0.4444444444444444,
              "#bd3786"
             ],
             [
              0.5555555555555556,
              "#d8576b"
             ],
             [
              0.6666666666666666,
              "#ed7953"
             ],
             [
              0.7777777777777778,
              "#fb9f3a"
             ],
             [
              0.8888888888888888,
              "#fdca26"
             ],
             [
              1,
              "#f0f921"
             ]
            ],
            "type": "histogram2d"
           }
          ],
          "histogram2dcontour": [
           {
            "colorbar": {
             "outlinewidth": 0,
             "ticks": ""
            },
            "colorscale": [
             [
              0,
              "#0d0887"
             ],
             [
              0.1111111111111111,
              "#46039f"
             ],
             [
              0.2222222222222222,
              "#7201a8"
             ],
             [
              0.3333333333333333,
              "#9c179e"
             ],
             [
              0.4444444444444444,
              "#bd3786"
             ],
             [
              0.5555555555555556,
              "#d8576b"
             ],
             [
              0.6666666666666666,
              "#ed7953"
             ],
             [
              0.7777777777777778,
              "#fb9f3a"
             ],
             [
              0.8888888888888888,
              "#fdca26"
             ],
             [
              1,
              "#f0f921"
             ]
            ],
            "type": "histogram2dcontour"
           }
          ],
          "mesh3d": [
           {
            "colorbar": {
             "outlinewidth": 0,
             "ticks": ""
            },
            "type": "mesh3d"
           }
          ],
          "parcoords": [
           {
            "line": {
             "colorbar": {
              "outlinewidth": 0,
              "ticks": ""
             }
            },
            "type": "parcoords"
           }
          ],
          "pie": [
           {
            "automargin": true,
            "type": "pie"
           }
          ],
          "scatter": [
           {
            "fillpattern": {
             "fillmode": "overlay",
             "size": 10,
             "solidity": 0.2
            },
            "type": "scatter"
           }
          ],
          "scatter3d": [
           {
            "line": {
             "colorbar": {
              "outlinewidth": 0,
              "ticks": ""
             }
            },
            "marker": {
             "colorbar": {
              "outlinewidth": 0,
              "ticks": ""
             }
            },
            "type": "scatter3d"
           }
          ],
          "scattercarpet": [
           {
            "marker": {
             "colorbar": {
              "outlinewidth": 0,
              "ticks": ""
             }
            },
            "type": "scattercarpet"
           }
          ],
          "scattergeo": [
           {
            "marker": {
             "colorbar": {
              "outlinewidth": 0,
              "ticks": ""
             }
            },
            "type": "scattergeo"
           }
          ],
          "scattergl": [
           {
            "marker": {
             "colorbar": {
              "outlinewidth": 0,
              "ticks": ""
             }
            },
            "type": "scattergl"
           }
          ],
          "scattermapbox": [
           {
            "marker": {
             "colorbar": {
              "outlinewidth": 0,
              "ticks": ""
             }
            },
            "type": "scattermapbox"
           }
          ],
          "scatterpolar": [
           {
            "marker": {
             "colorbar": {
              "outlinewidth": 0,
              "ticks": ""
             }
            },
            "type": "scatterpolar"
           }
          ],
          "scatterpolargl": [
           {
            "marker": {
             "colorbar": {
              "outlinewidth": 0,
              "ticks": ""
             }
            },
            "type": "scatterpolargl"
           }
          ],
          "scatterternary": [
           {
            "marker": {
             "colorbar": {
              "outlinewidth": 0,
              "ticks": ""
             }
            },
            "type": "scatterternary"
           }
          ],
          "surface": [
           {
            "colorbar": {
             "outlinewidth": 0,
             "ticks": ""
            },
            "colorscale": [
             [
              0,
              "#0d0887"
             ],
             [
              0.1111111111111111,
              "#46039f"
             ],
             [
              0.2222222222222222,
              "#7201a8"
             ],
             [
              0.3333333333333333,
              "#9c179e"
             ],
             [
              0.4444444444444444,
              "#bd3786"
             ],
             [
              0.5555555555555556,
              "#d8576b"
             ],
             [
              0.6666666666666666,
              "#ed7953"
             ],
             [
              0.7777777777777778,
              "#fb9f3a"
             ],
             [
              0.8888888888888888,
              "#fdca26"
             ],
             [
              1,
              "#f0f921"
             ]
            ],
            "type": "surface"
           }
          ],
          "table": [
           {
            "cells": {
             "fill": {
              "color": "#EBF0F8"
             },
             "line": {
              "color": "white"
             }
            },
            "header": {
             "fill": {
              "color": "#C8D4E3"
             },
             "line": {
              "color": "white"
             }
            },
            "type": "table"
           }
          ]
         },
         "layout": {
          "annotationdefaults": {
           "arrowcolor": "#2a3f5f",
           "arrowhead": 0,
           "arrowwidth": 1
          },
          "autotypenumbers": "strict",
          "coloraxis": {
           "colorbar": {
            "outlinewidth": 0,
            "ticks": ""
           }
          },
          "colorscale": {
           "diverging": [
            [
             0,
             "#8e0152"
            ],
            [
             0.1,
             "#c51b7d"
            ],
            [
             0.2,
             "#de77ae"
            ],
            [
             0.3,
             "#f1b6da"
            ],
            [
             0.4,
             "#fde0ef"
            ],
            [
             0.5,
             "#f7f7f7"
            ],
            [
             0.6,
             "#e6f5d0"
            ],
            [
             0.7,
             "#b8e186"
            ],
            [
             0.8,
             "#7fbc41"
            ],
            [
             0.9,
             "#4d9221"
            ],
            [
             1,
             "#276419"
            ]
           ],
           "sequential": [
            [
             0,
             "#0d0887"
            ],
            [
             0.1111111111111111,
             "#46039f"
            ],
            [
             0.2222222222222222,
             "#7201a8"
            ],
            [
             0.3333333333333333,
             "#9c179e"
            ],
            [
             0.4444444444444444,
             "#bd3786"
            ],
            [
             0.5555555555555556,
             "#d8576b"
            ],
            [
             0.6666666666666666,
             "#ed7953"
            ],
            [
             0.7777777777777778,
             "#fb9f3a"
            ],
            [
             0.8888888888888888,
             "#fdca26"
            ],
            [
             1,
             "#f0f921"
            ]
           ],
           "sequentialminus": [
            [
             0,
             "#0d0887"
            ],
            [
             0.1111111111111111,
             "#46039f"
            ],
            [
             0.2222222222222222,
             "#7201a8"
            ],
            [
             0.3333333333333333,
             "#9c179e"
            ],
            [
             0.4444444444444444,
             "#bd3786"
            ],
            [
             0.5555555555555556,
             "#d8576b"
            ],
            [
             0.6666666666666666,
             "#ed7953"
            ],
            [
             0.7777777777777778,
             "#fb9f3a"
            ],
            [
             0.8888888888888888,
             "#fdca26"
            ],
            [
             1,
             "#f0f921"
            ]
           ]
          },
          "colorway": [
           "#636efa",
           "#EF553B",
           "#00cc96",
           "#ab63fa",
           "#FFA15A",
           "#19d3f3",
           "#FF6692",
           "#B6E880",
           "#FF97FF",
           "#FECB52"
          ],
          "font": {
           "color": "#2a3f5f"
          },
          "geo": {
           "bgcolor": "white",
           "lakecolor": "white",
           "landcolor": "#E5ECF6",
           "showlakes": true,
           "showland": true,
           "subunitcolor": "white"
          },
          "hoverlabel": {
           "align": "left"
          },
          "hovermode": "closest",
          "mapbox": {
           "style": "light"
          },
          "paper_bgcolor": "white",
          "plot_bgcolor": "#E5ECF6",
          "polar": {
           "angularaxis": {
            "gridcolor": "white",
            "linecolor": "white",
            "ticks": ""
           },
           "bgcolor": "#E5ECF6",
           "radialaxis": {
            "gridcolor": "white",
            "linecolor": "white",
            "ticks": ""
           }
          },
          "scene": {
           "xaxis": {
            "backgroundcolor": "#E5ECF6",
            "gridcolor": "white",
            "gridwidth": 2,
            "linecolor": "white",
            "showbackground": true,
            "ticks": "",
            "zerolinecolor": "white"
           },
           "yaxis": {
            "backgroundcolor": "#E5ECF6",
            "gridcolor": "white",
            "gridwidth": 2,
            "linecolor": "white",
            "showbackground": true,
            "ticks": "",
            "zerolinecolor": "white"
           },
           "zaxis": {
            "backgroundcolor": "#E5ECF6",
            "gridcolor": "white",
            "gridwidth": 2,
            "linecolor": "white",
            "showbackground": true,
            "ticks": "",
            "zerolinecolor": "white"
           }
          },
          "shapedefaults": {
           "line": {
            "color": "#2a3f5f"
           }
          },
          "ternary": {
           "aaxis": {
            "gridcolor": "white",
            "linecolor": "white",
            "ticks": ""
           },
           "baxis": {
            "gridcolor": "white",
            "linecolor": "white",
            "ticks": ""
           },
           "bgcolor": "#E5ECF6",
           "caxis": {
            "gridcolor": "white",
            "linecolor": "white",
            "ticks": ""
           }
          },
          "title": {
           "x": 0.05
          },
          "xaxis": {
           "automargin": true,
           "gridcolor": "white",
           "linecolor": "white",
           "ticks": "",
           "title": {
            "standoff": 15
           },
           "zerolinecolor": "white",
           "zerolinewidth": 2
          },
          "yaxis": {
           "automargin": true,
           "gridcolor": "white",
           "linecolor": "white",
           "ticks": "",
           "title": {
            "standoff": 15
           },
           "zerolinecolor": "white",
           "zerolinewidth": 2
          }
         }
        }
       }
      }
     },
     "metadata": {},
     "output_type": "display_data"
    }
   ],
   "source": [
    "import plotly.graph_objects as go\n",
    "import networkx as nx\n",
    "\n",
    "# inicializace grafu\n",
    "G = nx.Graph()\n",
    "for index, row in df.iterrows():\n",
    "    G.add_edge(row['ORIGIN'], row['DEST'], weight=row['DISTANCE'])\n",
    "pos = nx.spring_layout(G)\n",
    "\n",
    "edge_x = []\n",
    "edge_y = []\n",
    "for edge in G.edges():\n",
    "    x0, y0 = pos[edge[0]]\n",
    "    x1, y1 = pos[edge[1]]\n",
    "    edge_x.append(x0)\n",
    "    edge_x.append(x1)\n",
    "    edge_x.append(None)\n",
    "    edge_y.append(y0)\n",
    "    edge_y.append(y1)\n",
    "    edge_y.append(None)\n",
    "\n",
    "node_x = [pos[node][0] for node in G.nodes()]\n",
    "node_y = [pos[node][1] for node in G.nodes()]\n",
    "\n",
    "fig = go.Figure()\n",
    "\n",
    "# hrany\n",
    "fig.add_trace(go.Scatter(x=edge_x, y=edge_y, mode='lines', line=dict(color='rgba(80,80,80,0.5)')))\n",
    "\n",
    "# uzly\n",
    "fig.add_trace(go.Scatter(x=node_x, y=node_y, mode='markers', text=list(G.nodes()), marker=dict(size=[np.log(v+1) * 20 for v in dict(G.degree).values()], color='rgba(222,45,38,0.8)'), hoverinfo='text'))\n",
    "\n",
    "# anotace\n",
    "for node in G.nodes():\n",
    "    fig.add_annotation(\n",
    "        x=pos[node][0], \n",
    "        y=pos[node][1],\n",
    "        text=node,\n",
    "        showarrow=False,\n",
    "        font=dict(size=12)\n",
    "    )\n",
    "\n",
    "fig.update_layout(showlegend=False, autosize=False,) # neodpovídá prezentaci kvůli úpravě pro větší rozlišení\n",
    "fig.show()\n"
   ]
  },
  {
   "cell_type": "markdown",
   "metadata": {},
   "source": [
    "### K-means clustering letišť podle počtu a délky letů"
   ]
  },
  {
   "cell_type": "code",
   "execution_count": 27,
   "metadata": {},
   "outputs": [
    {
     "name": "stderr",
     "output_type": "stream",
     "text": [
      "c:\\Users\\lukas\\anaconda3\\Lib\\site-packages\\sklearn\\cluster\\_kmeans.py:1412: FutureWarning:\n",
      "\n",
      "The default value of `n_init` will change from 10 to 'auto' in 1.4. Set the value of `n_init` explicitly to suppress the warning\n",
      "\n",
      "c:\\Users\\lukas\\anaconda3\\Lib\\site-packages\\sklearn\\cluster\\_kmeans.py:1436: UserWarning:\n",
      "\n",
      "KMeans is known to have a memory leak on Windows with MKL, when there are less chunks than available threads. You can avoid it by setting the environment variable OMP_NUM_THREADS=1.\n",
      "\n"
     ]
    },
    {
     "data": {
      "image/png": "[encoded data removed]",
      "text/plain": [
       "<Figure size 1000x700 with 1 Axes>"
      ]
     },
     "metadata": {},
     "output_type": "display_data"
    }
   ],
   "source": [
    "from sklearn.cluster import KMeans\n",
    "from sklearn.preprocessing import StandardScaler\n",
    "from sklearn.impute import SimpleImputer\n",
    "\n",
    "\n",
    "# LGA a JFK letiště jsou extrémní outliers proto odebíráme\n",
    "df = df[(df['ORIGIN'] != 'LGA') & (df['ORIGIN'] != 'JFK')]\n",
    "\n",
    "# groupby letiště\n",
    "airport_data = df.groupby('ORIGIN').agg({\n",
    "    'DISTANCE': 'mean',\n",
    "    'FLIGHTS': 'sum'\n",
    "})\n",
    "\n",
    "# Imputing missing pro jistotu\n",
    "imputer = SimpleImputer(strategy='mean')\n",
    "airport_data_imputed = imputer.fit_transform(airport_data)\n",
    "\n",
    "scaler = StandardScaler().fit(airport_data_imputed)\n",
    "airport_data_scaled = scaler.transform(airport_data_imputed)\n",
    "\n",
    "# KMeans\n",
    "model = KMeans(n_clusters=4)\n",
    "model.fit(airport_data_scaled)\n",
    "labels = model.labels_\n",
    "airport_data['cluster'] = labels\n",
    "\n",
    "plt.figure(figsize=(10, 7))\n",
    "plt.scatter(airport_data['DISTANCE'], airport_data['FLIGHTS'], c=airport_data['cluster'])\n",
    "plt.xlabel('Average Distance')\n",
    "plt.ylabel('Total Number of Flights')\n",
    "plt.title('Clusters of Airports')\n",
    "\n",
    "# jména letišť\n",
    "for i, airport in enumerate(airport_data.index):\n",
    "    plt.text(airport_data['DISTANCE'].iloc[i], airport_data['FLIGHTS'].iloc[i], airport, fontsize=8)  # Adjust fontsize as needed\n",
    "\n",
    "# centroidy\n",
    "centroids = model.cluster_centers_\n",
    "centroids_original_scale = scaler.inverse_transform(centroids)\n",
    "plt.scatter(centroids_original_scale[:, 0], centroids_original_scale[:, 1], c='red', marker='x')\n",
    "\n",
    "# spojení s cetroidy\n",
    "for i in range(len(airport_data)):\n",
    "    plt.plot([airport_data['DISTANCE'].iloc[i], centroids_original_scale[labels[i], 0]], \n",
    "             [airport_data['FLIGHTS'].iloc[i], centroids_original_scale[labels[i], 1]], \n",
    "             c='lightgray', linestyle='--')\n",
    "plt.show()\n",
    "\n"
   ]
  },
  {
   "cell_type": "markdown",
   "metadata": {},
   "source": [
    "# Predikce target variable DEP_DELAY_GROUP "
   ]
  },
  {
   "cell_type": "code",
   "execution_count": 28,
   "metadata": {},
   "outputs": [
    {
     "name": "stdout",
     "output_type": "stream",
     "text": [
      "Decision Tree Accuracy: 0.6763\n"
     ]
    }
   ],
   "source": [
    "# PREDIKCE\n",
    "from sklearn.model_selection import train_test_split\n",
    "from sklearn.tree import DecisionTreeClassifier\n",
    "from sklearn.preprocessing import LabelEncoder\n",
    "from sklearn.metrics import accuracy_score, classification_report\n",
    "\n",
    "parameters = ['ARR_DELAY_GROUP', 'CARRIER_DELAY_category', 'WEATHER_DELAY_category', 'NAS_DELAY_category',\n",
    "            'SECURITY_DELAY_category', 'LATE_AIRCRAFT_DELAY_category', 'dwpf_category', 'sknt_category',\n",
    "            'drct_category', 'tmpf_category', 'relh_category']\n",
    "\n",
    "# Target\n",
    "target = 'DEP_DELAY_GROUP'\n",
    "\n",
    "# Odstranění prázdných hodnot z DEP_DELAY_GROUP\n",
    "df_copy = df.copy()\n",
    "df_copy2 = df_copy[df_copy.DEP_DELAY_GROUP.notnull()]\n",
    "\n",
    "# Načtení parametrů a targetu\n",
    "x = df_copy2[parameters]\n",
    "y = df_copy2[target]\n",
    "\n",
    "# Převod sloupců na numerické hodnoty\n",
    "label_encoder = LabelEncoder()\n",
    "x_encoded = x.apply(label_encoder.fit_transform)\n",
    "\n",
    "# Rozdělení dat na trénovací a testovací\n",
    "x_train, x_test, y_train, y_test = train_test_split(x_encoded, y, test_size=0.1, random_state=40)\n",
    "\n",
    "# Trénovaní klasifikátoru\n",
    "model = DecisionTreeClassifier(random_state=40)\n",
    "model.fit(x_train, y_train)\n",
    "\n",
    "# Predikce na testovacích datech\n",
    "y_pred = model.predict(x_test)\n",
    "\n",
    "# Zhodnocení\n",
    "dt_accuracy = accuracy_score(y_test, y_pred)\n",
    "print(f'Decision Tree Accuracy: {dt_accuracy:.4f}')"
   ]
  },
  {
   "cell_type": "markdown",
   "metadata": {},
   "source": [
    "# Řešení analytických otázek"
   ]
  },
  {
   "cell_type": "code",
   "execution_count": 29,
   "id": "b854f592",
   "metadata": {},
   "outputs": [
    {
     "name": "stdout",
     "output_type": "stream",
     "text": [
      "Automatically reordering numeric categories ...done\n",
      "Cleverminer version  1.0.8\n"
     ]
    }
   ],
   "source": [
    "from cleverminer import cleverminer as cm"
   ]
  },
  {
   "cell_type": "markdown",
   "metadata": {},
   "source": [
    "Příprava dataframu s nenulovou hodnotou DEP_DELAY pro využití v úloze CF_MINER_3"
   ]
  },
  {
   "cell_type": "code",
   "execution_count": 30,
   "metadata": {},
   "outputs": [],
   "source": [
    "df_not_null = df[df['DEP_DELAY_NEW'] != 0.0]"
   ]
  },
  {
   "cell_type": "markdown",
   "metadata": {},
   "source": [
    "## CF_MINER_1"
   ]
  },
  {
   "cell_type": "code",
   "execution_count": 31,
   "metadata": {},
   "outputs": [
    {
     "name": "stdout",
     "output_type": "stream",
     "text": [
      "Cleverminer version 1.0.8.\n",
      "Starting data preparation ...\n",
      "Automatically reordering numeric categories ...\n"
     ]
    },
    {
     "name": "stdout",
     "output_type": "stream",
     "text": [
      "WARNING: attribute Unnamed: 0 has more than 100 values, will be ignored.\n",
      " If you haven't set maximum number of categories and you really need more categories and you know what you are doing, please use max_categories option to increase allowed number of categories.\n",
      "WARNING: attribute DEP_DELAY_NEW has more than 100 values, will be ignored.\n",
      " If you haven't set maximum number of categories and you really need more categories and you know what you are doing, please use max_categories option to increase allowed number of categories.\n",
      "WARNING: attribute TAXI_OUT has more than 100 values, will be ignored.\n",
      " If you haven't set maximum number of categories and you really need more categories and you know what you are doing, please use max_categories option to increase allowed number of categories.\n",
      "WARNING: attribute TAXI_IN has more than 100 values, will be ignored.\n",
      " If you haven't set maximum number of categories and you really need more categories and you know what you are doing, please use max_categories option to increase allowed number of categories.\n",
      "WARNING: attribute ARR_DELAY_NEW has more than 100 values, will be ignored.\n",
      " If you haven't set maximum number of categories and you really need more categories and you know what you are doing, please use max_categories option to increase allowed number of categories.\n",
      "WARNING: attribute CRS_ELAPSED_TIME has more than 100 values, will be ignored.\n",
      " If you haven't set maximum number of categories and you really need more categories and you know what you are doing, please use max_categories option to increase allowed number of categories.\n",
      "WARNING: attribute ACTUAL_ELAPSED_TIME has more than 100 values, will be ignored.\n",
      " If you haven't set maximum number of categories and you really need more categories and you know what you are doing, please use max_categories option to increase allowed number of categories.\n",
      "WARNING: attribute AIR_TIME has more than 100 values, will be ignored.\n",
      " If you haven't set maximum number of categories and you really need more categories and you know what you are doing, please use max_categories option to increase allowed number of categories.\n",
      "WARNING: attribute DISTANCE has more than 100 values, will be ignored.\n",
      " If you haven't set maximum number of categories and you really need more categories and you know what you are doing, please use max_categories option to increase allowed number of categories.\n",
      "WARNING: attribute CARRIER_DELAY has more than 100 values, will be ignored.\n",
      " If you haven't set maximum number of categories and you really need more categories and you know what you are doing, please use max_categories option to increase allowed number of categories.\n",
      "WARNING: attribute WEATHER_DELAY has more than 100 values, will be ignored.\n",
      " If you haven't set maximum number of categories and you really need more categories and you know what you are doing, please use max_categories option to increase allowed number of categories.\n",
      "WARNING: attribute NAS_DELAY has more than 100 values, will be ignored.\n",
      " If you haven't set maximum number of categories and you really need more categories and you know what you are doing, please use max_categories option to increase allowed number of categories.\n",
      "WARNING: attribute LATE_AIRCRAFT_DELAY has more than 100 values, will be ignored.\n",
      " If you haven't set maximum number of categories and you really need more categories and you know what you are doing, please use max_categories option to increase allowed number of categories.\n",
      "WARNING: attribute relh has more than 100 values, will be ignored.\n",
      " If you haven't set maximum number of categories and you really need more categories and you know what you are doing, please use max_categories option to increase allowed number of categories.\n",
      "WARNING: attribute mslp has more than 100 values, will be ignored.\n",
      " If you haven't set maximum number of categories and you really need more categories and you know what you are doing, please use max_categories option to increase allowed number of categories.\n",
      "WARNING: attribute feel has more than 100 values, will be ignored.\n",
      " If you haven't set maximum number of categories and you really need more categories and you know what you are doing, please use max_categories option to increase allowed number of categories.\n",
      "WARNING: attribute valid_date_time_H has more than 100 values, will be ignored.\n",
      " If you haven't set maximum number of categories and you really need more categories and you know what you are doing, please use max_categories option to increase allowed number of categories.\n",
      "Encoding columns into bit-form...\n",
      "Encoding columns into bit-form...done\n",
      "Data preparation finished.\n",
      "Will go for  CFMiner\n",
      "Starting to mine rules.\n",
      "  0%|                                                    |Elapsed Time: 0:00:00\n",
      " 21%|###########                                         |Elapsed Time: 0:00:00\n",
      " 45%|#######################                             |Elapsed Time: 0:00:00\n",
      "100%|####################################################|Elapsed Time: 0:00:00\n",
      "Done. Total verifications : 878, rules 878, times: prep 1.55sec, processing 0.13sec\n",
      "\n",
      "\n",
      "Rule id : 809\n",
      "\n",
      "Base :   581  Relative base : 0.021  Steps UP (consecutive) :     2  Steps DOWN (consecutive) :     3  Steps UP (any) :     5  Steps DOWN (any) :     5  Histogram maximum :   111  Histogram minimum :     4  Histogram relative maximum : 0.191 Histogram relative minimum : 0.007 \n",
      "\n",
      "Condition  : DEP_DELAY_GROUP(10 11 12) & ARR_DELAY_GROUP(10.0 11.0 12.0)\n",
      "\n",
      "Categories in target variable  [1, 2, 3, 4, 5, 6, 7, 8, 9, 10, 11]\n",
      "Histogram                      [74, 104, 111, 74, 109, 35, 31, 4, 8, 20, 11]\n",
      "\n"
     ]
    }
   ],
   "source": [
    "clm = cm(df=df,target='DISTANCE_GROUP',proc='CFMiner',\n",
    "               quantifiers= {'RelBase':0.001},\n",
    "               cond ={\n",
    "                    'attributes':[\n",
    "                        {'name': 'DEP_DELAY_GROUP', 'type': 'seq', 'minlen': 1, 'maxlen': 3},\n",
    "                        {'name': 'ARR_DELAY_GROUP', 'type': 'seq', 'minlen': 1, 'maxlen': 3},\n",
    "                    ], 'minlen':1, 'maxlen':2, 'type':'con'}\n",
    "               )\n",
    "clm.print_rule(809)"
   ]
  },
  {
   "cell_type": "code",
   "execution_count": 32,
   "metadata": {},
   "outputs": [
    {
     "data": {
      "image/png": "[encoded data removed]",
      "text/plain": [
       "<Figure size 640x480 with 1 Axes>"
      ]
     },
     "metadata": {},
     "output_type": "display_data"
    }
   ],
   "source": [
    "import matplotlib.colors as mcolors\n",
    "\n",
    "labels = [1, 2, 3, 4, 5, 6, 7, 8, 9, 10, 11]\n",
    "histogram = [151, 175, 224, 143, 227, 68, 53, 10, 12, 47, 18]\n",
    "\n",
    "# barva\n",
    "cmap = mcolors.LinearSegmentedColormap.from_list(\"\", [\"red\", \"black\"])\n",
    "plt.bar(labels, histogram, color=cmap(np.array(labels)/max(labels)))\n",
    "plt.xlabel('Distance group 1bin ~ 200 miles')\n",
    "plt.ylabel('Number of flights')\n",
    "plt.title('Délka extrémně zpozděných letů ARR a DEP delay (10,11,12)')\n",
    "plt.show()"
   ]
  },
  {
   "cell_type": "markdown",
   "metadata": {},
   "source": [
    "# CF_MINER_2"
   ]
  },
  {
   "cell_type": "code",
   "execution_count": 33,
   "metadata": {},
   "outputs": [
    {
     "name": "stdout",
     "output_type": "stream",
     "text": [
      "Cleverminer version 1.0.8.\n",
      "Starting data preparation ...\n",
      "Automatically reordering numeric categories ...\n",
      "Encoding columns into bit-form...\n",
      "Encoding columns into bit-form...done\n",
      "Data preparation finished.\n",
      "Will go for  CFMiner\n",
      "Starting to mine rules.\n",
      "  0%|                                                    |Elapsed Time: 0:00:00\n",
      " 19%|#########                                           |Elapsed Time: 0:00:00\n",
      "100%|####################################################|Elapsed Time: 0:00:00\n",
      "Done. Total verifications : 27, rules 27, times: prep 0.76sec, processing 0.08sec\n",
      "\n",
      "\n",
      "Rule id : 25\n",
      "\n",
      "Base :   171  Relative base : 0.006  Steps UP (consecutive) :     1  Steps DOWN (consecutive) :     5  Steps UP (any) :     1  Steps DOWN (any) :     5  Histogram maximum :    66  Histogram minimum :     0  Histogram relative maximum : 0.386 Histogram relative minimum : 0.000 \n",
      "\n",
      "Condition  : CARRIER_DELAY_category(High) & WEATHER_DELAY_category(Low) & NAS_DELAY_category(Low) & SECURITY_DELAY_category(Low) & LATE_AIRCRAFT_DELAY_category(Low)\n",
      "\n",
      "Categories in target variable  [-2.0, -1.0, 0.0, 1.0, 2.0, 3.0, 4.0, 5.0, 6.0, 7.0, 8.0, 9.0, 10.0, 11.0, 12.0]\n",
      "Histogram                      [0, 0, 0, 0, 0, 0, 66, 45, 34, 23, 3, 0, 0, 0, 0]\n",
      "\n"
     ]
    }
   ],
   "source": [
    "clm = cm(df=df,target='ARR_DELAY_GROUP',proc='CFMiner',\n",
    "               quantifiers= {'Base': 50},\n",
    "               cond ={\n",
    "                   'attributes':[\n",
    "                        {'name': 'CARRIER_DELAY_category', 'type': 'subset', 'minlen': 1, 'maxlen': 1},\n",
    "                        {'name': 'WEATHER_DELAY_category', 'type': 'subset', 'minlen': 1, 'maxlen': 1},\n",
    "                        {'name': 'NAS_DELAY_category', 'type': 'subset', 'minlen': 1, 'maxlen': 1},\n",
    "                        {'name': 'SECURITY_DELAY_category', 'type': 'subset', 'minlen': 1, 'maxlen': 1},\n",
    "                        {'name': 'LATE_AIRCRAFT_DELAY_category', 'type': 'subset', 'minlen': 1, 'maxlen': 1},\n",
    "                        ], 'minlen':5, 'maxlen':5, 'type':'con'}\n",
    "               )\n",
    "clm.print_rule(25)"
   ]
  },
  {
   "cell_type": "code",
   "execution_count": 34,
   "metadata": {},
   "outputs": [
    {
     "data": {
      "image/png": "[encoded data removed]",
      "text/plain": [
       "<Figure size 640x480 with 1 Axes>"
      ]
     },
     "metadata": {},
     "output_type": "display_data"
    }
   ],
   "source": [
    "import matplotlib.colors as mcolors\n",
    "\n",
    "labels = [-2.0, -1.0, 0.0, 1.0, 2.0, 3.0, 4.0, 5.0, 6.0, 7.0, 8.0, 9.0, 10.0, 11.0, 12.0]\n",
    "histogram = [0, 0, 0, 0, 0, 0, 66, 45, 34, 23, 3, 0, 0, 0, 0]\n",
    "\n",
    "# barva\n",
    "cmap = mcolors.LinearSegmentedColormap.from_list(\"\", [\"green\", \"red\"])\n",
    "\n",
    "plt.bar(labels, histogram, color=cmap(np.array(labels)/max(labels)))\n",
    "plt.xlabel('Arrival delay type')\n",
    "plt.ylabel('Number of flights')\n",
    "plt.title('Distribution of Arrival delay type when CARRIER_DELAY(High) & other delays(Low)')\n",
    "plt.show()"
   ]
  },
  {
   "cell_type": "markdown",
   "metadata": {},
   "source": [
    "# CF_MINER_3"
   ]
  },
  {
   "cell_type": "code",
   "execution_count": 35,
   "metadata": {},
   "outputs": [
    {
     "name": "stdout",
     "output_type": "stream",
     "text": [
      "Cleverminer version 1.0.8.\n",
      "Starting data preparation ...\n",
      "Automatically reordering numeric categories ...\n"
     ]
    },
    {
     "name": "stderr",
     "output_type": "stream",
     "text": [
      "c:\\Users\\lukas\\anaconda3\\Lib\\site-packages\\cleverminer\\cleverminer.py:174: SettingWithCopyWarning:\n",
      "\n",
      "\n",
      "A value is trying to be set on a copy of a slice from a DataFrame.\n",
      "Try using .loc[row_indexer,col_indexer] = value instead\n",
      "\n",
      "See the caveats in the documentation: https://pandas.pydata.org/pandas-docs/stable/user_guide/indexing.html#returning-a-view-versus-a-copy\n",
      "\n",
      "c:\\Users\\lukas\\anaconda3\\Lib\\site-packages\\cleverminer\\cleverminer.py:183: SettingWithCopyWarning:\n",
      "\n",
      "\n",
      "A value is trying to be set on a copy of a slice from a DataFrame.\n",
      "Try using .loc[row_indexer,col_indexer] = value instead\n",
      "\n",
      "See the caveats in the documentation: https://pandas.pydata.org/pandas-docs/stable/user_guide/indexing.html#returning-a-view-versus-a-copy\n",
      "\n",
      "c:\\Users\\lukas\\anaconda3\\Lib\\site-packages\\cleverminer\\cleverminer.py:188: SettingWithCopyWarning:\n",
      "\n",
      "\n",
      "A value is trying to be set on a copy of a slice from a DataFrame.\n",
      "Try using .loc[row_indexer,col_indexer] = value instead\n",
      "\n",
      "See the caveats in the documentation: https://pandas.pydata.org/pandas-docs/stable/user_guide/indexing.html#returning-a-view-versus-a-copy\n",
      "\n",
      "c:\\Users\\lukas\\anaconda3\\Lib\\site-packages\\cleverminer\\cleverminer.py:174: SettingWithCopyWarning:\n",
      "\n",
      "\n",
      "A value is trying to be set on a copy of a slice from a DataFrame.\n",
      "Try using .loc[row_indexer,col_indexer] = value instead\n",
      "\n",
      "See the caveats in the documentation: https://pandas.pydata.org/pandas-docs/stable/user_guide/indexing.html#returning-a-view-versus-a-copy\n",
      "\n",
      "c:\\Users\\lukas\\anaconda3\\Lib\\site-packages\\cleverminer\\cleverminer.py:183: SettingWithCopyWarning:\n",
      "\n",
      "\n",
      "A value is trying to be set on a copy of a slice from a DataFrame.\n",
      "Try using .loc[row_indexer,col_indexer] = value instead\n",
      "\n",
      "See the caveats in the documentation: https://pandas.pydata.org/pandas-docs/stable/user_guide/indexing.html#returning-a-view-versus-a-copy\n",
      "\n",
      "c:\\Users\\lukas\\anaconda3\\Lib\\site-packages\\cleverminer\\cleverminer.py:188: SettingWithCopyWarning:\n",
      "\n",
      "\n",
      "A value is trying to be set on a copy of a slice from a DataFrame.\n",
      "Try using .loc[row_indexer,col_indexer] = value instead\n",
      "\n",
      "See the caveats in the documentation: https://pandas.pydata.org/pandas-docs/stable/user_guide/indexing.html#returning-a-view-versus-a-copy\n",
      "\n",
      "c:\\Users\\lukas\\anaconda3\\Lib\\site-packages\\cleverminer\\cleverminer.py:174: SettingWithCopyWarning:\n",
      "\n",
      "\n",
      "A value is trying to be set on a copy of a slice from a DataFrame.\n",
      "Try using .loc[row_indexer,col_indexer] = value instead\n",
      "\n",
      "See the caveats in the documentation: https://pandas.pydata.org/pandas-docs/stable/user_guide/indexing.html#returning-a-view-versus-a-copy\n",
      "\n",
      "c:\\Users\\lukas\\anaconda3\\Lib\\site-packages\\cleverminer\\cleverminer.py:183: SettingWithCopyWarning:\n",
      "\n",
      "\n",
      "A value is trying to be set on a copy of a slice from a DataFrame.\n",
      "Try using .loc[row_indexer,col_indexer] = value instead\n",
      "\n",
      "See the caveats in the documentation: https://pandas.pydata.org/pandas-docs/stable/user_guide/indexing.html#returning-a-view-versus-a-copy\n",
      "\n",
      "c:\\Users\\lukas\\anaconda3\\Lib\\site-packages\\cleverminer\\cleverminer.py:188: SettingWithCopyWarning:\n",
      "\n",
      "\n",
      "A value is trying to be set on a copy of a slice from a DataFrame.\n",
      "Try using .loc[row_indexer,col_indexer] = value instead\n",
      "\n",
      "See the caveats in the documentation: https://pandas.pydata.org/pandas-docs/stable/user_guide/indexing.html#returning-a-view-versus-a-copy\n",
      "\n",
      "c:\\Users\\lukas\\anaconda3\\Lib\\site-packages\\cleverminer\\cleverminer.py:174: SettingWithCopyWarning:\n",
      "\n",
      "\n",
      "A value is trying to be set on a copy of a slice from a DataFrame.\n",
      "Try using .loc[row_indexer,col_indexer] = value instead\n",
      "\n",
      "See the caveats in the documentation: https://pandas.pydata.org/pandas-docs/stable/user_guide/indexing.html#returning-a-view-versus-a-copy\n",
      "\n",
      "c:\\Users\\lukas\\anaconda3\\Lib\\site-packages\\cleverminer\\cleverminer.py:183: SettingWithCopyWarning:\n",
      "\n",
      "\n",
      "A value is trying to be set on a copy of a slice from a DataFrame.\n",
      "Try using .loc[row_indexer,col_indexer] = value instead\n",
      "\n",
      "See the caveats in the documentation: https://pandas.pydata.org/pandas-docs/stable/user_guide/indexing.html#returning-a-view-versus-a-copy\n",
      "\n",
      "c:\\Users\\lukas\\anaconda3\\Lib\\site-packages\\cleverminer\\cleverminer.py:188: SettingWithCopyWarning:\n",
      "\n",
      "\n",
      "A value is trying to be set on a copy of a slice from a DataFrame.\n",
      "Try using .loc[row_indexer,col_indexer] = value instead\n",
      "\n",
      "See the caveats in the documentation: https://pandas.pydata.org/pandas-docs/stable/user_guide/indexing.html#returning-a-view-versus-a-copy\n",
      "\n",
      "c:\\Users\\lukas\\anaconda3\\Lib\\site-packages\\cleverminer\\cleverminer.py:174: SettingWithCopyWarning:\n",
      "\n",
      "\n",
      "A value is trying to be set on a copy of a slice from a DataFrame.\n",
      "Try using .loc[row_indexer,col_indexer] = value instead\n",
      "\n",
      "See the caveats in the documentation: https://pandas.pydata.org/pandas-docs/stable/user_guide/indexing.html#returning-a-view-versus-a-copy\n",
      "\n",
      "c:\\Users\\lukas\\anaconda3\\Lib\\site-packages\\cleverminer\\cleverminer.py:188: SettingWithCopyWarning:\n",
      "\n",
      "\n",
      "A value is trying to be set on a copy of a slice from a DataFrame.\n",
      "Try using .loc[row_indexer,col_indexer] = value instead\n",
      "\n",
      "See the caveats in the documentation: https://pandas.pydata.org/pandas-docs/stable/user_guide/indexing.html#returning-a-view-versus-a-copy\n",
      "\n",
      "c:\\Users\\lukas\\anaconda3\\Lib\\site-packages\\cleverminer\\cleverminer.py:174: SettingWithCopyWarning:\n",
      "\n",
      "\n",
      "A value is trying to be set on a copy of a slice from a DataFrame.\n",
      "Try using .loc[row_indexer,col_indexer] = value instead\n",
      "\n",
      "See the caveats in the documentation: https://pandas.pydata.org/pandas-docs/stable/user_guide/indexing.html#returning-a-view-versus-a-copy\n",
      "\n",
      "c:\\Users\\lukas\\anaconda3\\Lib\\site-packages\\cleverminer\\cleverminer.py:188: SettingWithCopyWarning:\n",
      "\n",
      "\n",
      "A value is trying to be set on a copy of a slice from a DataFrame.\n",
      "Try using .loc[row_indexer,col_indexer] = value instead\n",
      "\n",
      "See the caveats in the documentation: https://pandas.pydata.org/pandas-docs/stable/user_guide/indexing.html#returning-a-view-versus-a-copy\n",
      "\n",
      "c:\\Users\\lukas\\anaconda3\\Lib\\site-packages\\cleverminer\\cleverminer.py:174: SettingWithCopyWarning:\n",
      "\n",
      "\n",
      "A value is trying to be set on a copy of a slice from a DataFrame.\n",
      "Try using .loc[row_indexer,col_indexer] = value instead\n",
      "\n",
      "See the caveats in the documentation: https://pandas.pydata.org/pandas-docs/stable/user_guide/indexing.html#returning-a-view-versus-a-copy\n",
      "\n",
      "c:\\Users\\lukas\\anaconda3\\Lib\\site-packages\\cleverminer\\cleverminer.py:188: SettingWithCopyWarning:\n",
      "\n",
      "\n",
      "A value is trying to be set on a copy of a slice from a DataFrame.\n",
      "Try using .loc[row_indexer,col_indexer] = value instead\n",
      "\n",
      "See the caveats in the documentation: https://pandas.pydata.org/pandas-docs/stable/user_guide/indexing.html#returning-a-view-versus-a-copy\n",
      "\n",
      "c:\\Users\\lukas\\anaconda3\\Lib\\site-packages\\cleverminer\\cleverminer.py:174: SettingWithCopyWarning:\n",
      "\n",
      "\n",
      "A value is trying to be set on a copy of a slice from a DataFrame.\n",
      "Try using .loc[row_indexer,col_indexer] = value instead\n",
      "\n",
      "See the caveats in the documentation: https://pandas.pydata.org/pandas-docs/stable/user_guide/indexing.html#returning-a-view-versus-a-copy\n",
      "\n",
      "c:\\Users\\lukas\\anaconda3\\Lib\\site-packages\\cleverminer\\cleverminer.py:188: SettingWithCopyWarning:\n",
      "\n",
      "\n",
      "A value is trying to be set on a copy of a slice from a DataFrame.\n",
      "Try using .loc[row_indexer,col_indexer] = value instead\n",
      "\n",
      "See the caveats in the documentation: https://pandas.pydata.org/pandas-docs/stable/user_guide/indexing.html#returning-a-view-versus-a-copy\n",
      "\n",
      "c:\\Users\\lukas\\anaconda3\\Lib\\site-packages\\cleverminer\\cleverminer.py:174: SettingWithCopyWarning:\n",
      "\n",
      "\n",
      "A value is trying to be set on a copy of a slice from a DataFrame.\n",
      "Try using .loc[row_indexer,col_indexer] = value instead\n",
      "\n",
      "See the caveats in the documentation: https://pandas.pydata.org/pandas-docs/stable/user_guide/indexing.html#returning-a-view-versus-a-copy\n",
      "\n",
      "c:\\Users\\lukas\\anaconda3\\Lib\\site-packages\\cleverminer\\cleverminer.py:188: SettingWithCopyWarning:\n",
      "\n",
      "\n",
      "A value is trying to be set on a copy of a slice from a DataFrame.\n",
      "Try using .loc[row_indexer,col_indexer] = value instead\n",
      "\n",
      "See the caveats in the documentation: https://pandas.pydata.org/pandas-docs/stable/user_guide/indexing.html#returning-a-view-versus-a-copy\n",
      "\n",
      "c:\\Users\\lukas\\anaconda3\\Lib\\site-packages\\cleverminer\\cleverminer.py:174: SettingWithCopyWarning:\n",
      "\n",
      "\n",
      "A value is trying to be set on a copy of a slice from a DataFrame.\n",
      "Try using .loc[row_indexer,col_indexer] = value instead\n",
      "\n",
      "See the caveats in the documentation: https://pandas.pydata.org/pandas-docs/stable/user_guide/indexing.html#returning-a-view-versus-a-copy\n",
      "\n",
      "c:\\Users\\lukas\\anaconda3\\Lib\\site-packages\\cleverminer\\cleverminer.py:183: SettingWithCopyWarning:\n",
      "\n",
      "\n",
      "A value is trying to be set on a copy of a slice from a DataFrame.\n",
      "Try using .loc[row_indexer,col_indexer] = value instead\n",
      "\n",
      "See the caveats in the documentation: https://pandas.pydata.org/pandas-docs/stable/user_guide/indexing.html#returning-a-view-versus-a-copy\n",
      "\n",
      "c:\\Users\\lukas\\anaconda3\\Lib\\site-packages\\cleverminer\\cleverminer.py:188: SettingWithCopyWarning:\n",
      "\n",
      "\n",
      "A value is trying to be set on a copy of a slice from a DataFrame.\n",
      "Try using .loc[row_indexer,col_indexer] = value instead\n",
      "\n",
      "See the caveats in the documentation: https://pandas.pydata.org/pandas-docs/stable/user_guide/indexing.html#returning-a-view-versus-a-copy\n",
      "\n",
      "c:\\Users\\lukas\\anaconda3\\Lib\\site-packages\\cleverminer\\cleverminer.py:174: SettingWithCopyWarning:\n",
      "\n",
      "\n",
      "A value is trying to be set on a copy of a slice from a DataFrame.\n",
      "Try using .loc[row_indexer,col_indexer] = value instead\n",
      "\n",
      "See the caveats in the documentation: https://pandas.pydata.org/pandas-docs/stable/user_guide/indexing.html#returning-a-view-versus-a-copy\n",
      "\n",
      "c:\\Users\\lukas\\anaconda3\\Lib\\site-packages\\cleverminer\\cleverminer.py:183: SettingWithCopyWarning:\n",
      "\n",
      "\n",
      "A value is trying to be set on a copy of a slice from a DataFrame.\n",
      "Try using .loc[row_indexer,col_indexer] = value instead\n",
      "\n",
      "See the caveats in the documentation: https://pandas.pydata.org/pandas-docs/stable/user_guide/indexing.html#returning-a-view-versus-a-copy\n",
      "\n",
      "c:\\Users\\lukas\\anaconda3\\Lib\\site-packages\\cleverminer\\cleverminer.py:188: SettingWithCopyWarning:\n",
      "\n",
      "\n",
      "A value is trying to be set on a copy of a slice from a DataFrame.\n",
      "Try using .loc[row_indexer,col_indexer] = value instead\n",
      "\n",
      "See the caveats in the documentation: https://pandas.pydata.org/pandas-docs/stable/user_guide/indexing.html#returning-a-view-versus-a-copy\n",
      "\n",
      "c:\\Users\\lukas\\anaconda3\\Lib\\site-packages\\cleverminer\\cleverminer.py:174: SettingWithCopyWarning:\n",
      "\n",
      "\n",
      "A value is trying to be set on a copy of a slice from a DataFrame.\n",
      "Try using .loc[row_indexer,col_indexer] = value instead\n",
      "\n",
      "See the caveats in the documentation: https://pandas.pydata.org/pandas-docs/stable/user_guide/indexing.html#returning-a-view-versus-a-copy\n",
      "\n",
      "c:\\Users\\lukas\\anaconda3\\Lib\\site-packages\\cleverminer\\cleverminer.py:183: SettingWithCopyWarning:\n",
      "\n",
      "\n",
      "A value is trying to be set on a copy of a slice from a DataFrame.\n",
      "Try using .loc[row_indexer,col_indexer] = value instead\n",
      "\n",
      "See the caveats in the documentation: https://pandas.pydata.org/pandas-docs/stable/user_guide/indexing.html#returning-a-view-versus-a-copy\n",
      "\n",
      "c:\\Users\\lukas\\anaconda3\\Lib\\site-packages\\cleverminer\\cleverminer.py:188: SettingWithCopyWarning:\n",
      "\n",
      "\n",
      "A value is trying to be set on a copy of a slice from a DataFrame.\n",
      "Try using .loc[row_indexer,col_indexer] = value instead\n",
      "\n",
      "See the caveats in the documentation: https://pandas.pydata.org/pandas-docs/stable/user_guide/indexing.html#returning-a-view-versus-a-copy\n",
      "\n",
      "c:\\Users\\lukas\\anaconda3\\Lib\\site-packages\\cleverminer\\cleverminer.py:174: SettingWithCopyWarning:\n",
      "\n",
      "\n",
      "A value is trying to be set on a copy of a slice from a DataFrame.\n",
      "Try using .loc[row_indexer,col_indexer] = value instead\n",
      "\n",
      "See the caveats in the documentation: https://pandas.pydata.org/pandas-docs/stable/user_guide/indexing.html#returning-a-view-versus-a-copy\n",
      "\n",
      "c:\\Users\\lukas\\anaconda3\\Lib\\site-packages\\cleverminer\\cleverminer.py:188: SettingWithCopyWarning:\n",
      "\n",
      "\n",
      "A value is trying to be set on a copy of a slice from a DataFrame.\n",
      "Try using .loc[row_indexer,col_indexer] = value instead\n",
      "\n",
      "See the caveats in the documentation: https://pandas.pydata.org/pandas-docs/stable/user_guide/indexing.html#returning-a-view-versus-a-copy\n",
      "\n",
      "c:\\Users\\lukas\\anaconda3\\Lib\\site-packages\\cleverminer\\cleverminer.py:174: SettingWithCopyWarning:\n",
      "\n",
      "\n",
      "A value is trying to be set on a copy of a slice from a DataFrame.\n",
      "Try using .loc[row_indexer,col_indexer] = value instead\n",
      "\n",
      "See the caveats in the documentation: https://pandas.pydata.org/pandas-docs/stable/user_guide/indexing.html#returning-a-view-versus-a-copy\n",
      "\n",
      "c:\\Users\\lukas\\anaconda3\\Lib\\site-packages\\cleverminer\\cleverminer.py:188: SettingWithCopyWarning:\n",
      "\n",
      "\n",
      "A value is trying to be set on a copy of a slice from a DataFrame.\n",
      "Try using .loc[row_indexer,col_indexer] = value instead\n",
      "\n",
      "See the caveats in the documentation: https://pandas.pydata.org/pandas-docs/stable/user_guide/indexing.html#returning-a-view-versus-a-copy\n",
      "\n",
      "c:\\Users\\lukas\\anaconda3\\Lib\\site-packages\\cleverminer\\cleverminer.py:174: SettingWithCopyWarning:\n",
      "\n",
      "\n",
      "A value is trying to be set on a copy of a slice from a DataFrame.\n",
      "Try using .loc[row_indexer,col_indexer] = value instead\n",
      "\n",
      "See the caveats in the documentation: https://pandas.pydata.org/pandas-docs/stable/user_guide/indexing.html#returning-a-view-versus-a-copy\n",
      "\n",
      "c:\\Users\\lukas\\anaconda3\\Lib\\site-packages\\cleverminer\\cleverminer.py:183: SettingWithCopyWarning:\n",
      "\n",
      "\n",
      "A value is trying to be set on a copy of a slice from a DataFrame.\n",
      "Try using .loc[row_indexer,col_indexer] = value instead\n",
      "\n",
      "See the caveats in the documentation: https://pandas.pydata.org/pandas-docs/stable/user_guide/indexing.html#returning-a-view-versus-a-copy\n",
      "\n",
      "c:\\Users\\lukas\\anaconda3\\Lib\\site-packages\\cleverminer\\cleverminer.py:188: SettingWithCopyWarning:\n",
      "\n",
      "\n",
      "A value is trying to be set on a copy of a slice from a DataFrame.\n",
      "Try using .loc[row_indexer,col_indexer] = value instead\n",
      "\n",
      "See the caveats in the documentation: https://pandas.pydata.org/pandas-docs/stable/user_guide/indexing.html#returning-a-view-versus-a-copy\n",
      "\n",
      "c:\\Users\\lukas\\anaconda3\\Lib\\site-packages\\cleverminer\\cleverminer.py:174: SettingWithCopyWarning:\n",
      "\n",
      "\n",
      "A value is trying to be set on a copy of a slice from a DataFrame.\n",
      "Try using .loc[row_indexer,col_indexer] = value instead\n",
      "\n",
      "See the caveats in the documentation: https://pandas.pydata.org/pandas-docs/stable/user_guide/indexing.html#returning-a-view-versus-a-copy\n",
      "\n",
      "c:\\Users\\lukas\\anaconda3\\Lib\\site-packages\\cleverminer\\cleverminer.py:183: SettingWithCopyWarning:\n",
      "\n",
      "\n",
      "A value is trying to be set on a copy of a slice from a DataFrame.\n",
      "Try using .loc[row_indexer,col_indexer] = value instead\n",
      "\n",
      "See the caveats in the documentation: https://pandas.pydata.org/pandas-docs/stable/user_guide/indexing.html#returning-a-view-versus-a-copy\n",
      "\n",
      "c:\\Users\\lukas\\anaconda3\\Lib\\site-packages\\cleverminer\\cleverminer.py:188: SettingWithCopyWarning:\n",
      "\n",
      "\n",
      "A value is trying to be set on a copy of a slice from a DataFrame.\n",
      "Try using .loc[row_indexer,col_indexer] = value instead\n",
      "\n",
      "See the caveats in the documentation: https://pandas.pydata.org/pandas-docs/stable/user_guide/indexing.html#returning-a-view-versus-a-copy\n",
      "\n",
      "c:\\Users\\lukas\\anaconda3\\Lib\\site-packages\\cleverminer\\cleverminer.py:174: SettingWithCopyWarning:\n",
      "\n",
      "\n",
      "A value is trying to be set on a copy of a slice from a DataFrame.\n",
      "Try using .loc[row_indexer,col_indexer] = value instead\n",
      "\n",
      "See the caveats in the documentation: https://pandas.pydata.org/pandas-docs/stable/user_guide/indexing.html#returning-a-view-versus-a-copy\n",
      "\n",
      "c:\\Users\\lukas\\anaconda3\\Lib\\site-packages\\cleverminer\\cleverminer.py:183: SettingWithCopyWarning:\n",
      "\n",
      "\n",
      "A value is trying to be set on a copy of a slice from a DataFrame.\n",
      "Try using .loc[row_indexer,col_indexer] = value instead\n",
      "\n",
      "See the caveats in the documentation: https://pandas.pydata.org/pandas-docs/stable/user_guide/indexing.html#returning-a-view-versus-a-copy\n",
      "\n",
      "c:\\Users\\lukas\\anaconda3\\Lib\\site-packages\\cleverminer\\cleverminer.py:188: SettingWithCopyWarning:\n",
      "\n",
      "\n",
      "A value is trying to be set on a copy of a slice from a DataFrame.\n",
      "Try using .loc[row_indexer,col_indexer] = value instead\n",
      "\n",
      "See the caveats in the documentation: https://pandas.pydata.org/pandas-docs/stable/user_guide/indexing.html#returning-a-view-versus-a-copy\n",
      "\n",
      "c:\\Users\\lukas\\anaconda3\\Lib\\site-packages\\cleverminer\\cleverminer.py:174: SettingWithCopyWarning:\n",
      "\n",
      "\n",
      "A value is trying to be set on a copy of a slice from a DataFrame.\n",
      "Try using .loc[row_indexer,col_indexer] = value instead\n",
      "\n",
      "See the caveats in the documentation: https://pandas.pydata.org/pandas-docs/stable/user_guide/indexing.html#returning-a-view-versus-a-copy\n",
      "\n",
      "c:\\Users\\lukas\\anaconda3\\Lib\\site-packages\\cleverminer\\cleverminer.py:183: SettingWithCopyWarning:\n",
      "\n",
      "\n",
      "A value is trying to be set on a copy of a slice from a DataFrame.\n",
      "Try using .loc[row_indexer,col_indexer] = value instead\n",
      "\n",
      "See the caveats in the documentation: https://pandas.pydata.org/pandas-docs/stable/user_guide/indexing.html#returning-a-view-versus-a-copy\n",
      "\n",
      "c:\\Users\\lukas\\anaconda3\\Lib\\site-packages\\cleverminer\\cleverminer.py:188: SettingWithCopyWarning:\n",
      "\n",
      "\n",
      "A value is trying to be set on a copy of a slice from a DataFrame.\n",
      "Try using .loc[row_indexer,col_indexer] = value instead\n",
      "\n",
      "See the caveats in the documentation: https://pandas.pydata.org/pandas-docs/stable/user_guide/indexing.html#returning-a-view-versus-a-copy\n",
      "\n",
      "c:\\Users\\lukas\\anaconda3\\Lib\\site-packages\\cleverminer\\cleverminer.py:174: SettingWithCopyWarning:\n",
      "\n",
      "\n",
      "A value is trying to be set on a copy of a slice from a DataFrame.\n",
      "Try using .loc[row_indexer,col_indexer] = value instead\n",
      "\n",
      "See the caveats in the documentation: https://pandas.pydata.org/pandas-docs/stable/user_guide/indexing.html#returning-a-view-versus-a-copy\n",
      "\n",
      "c:\\Users\\lukas\\anaconda3\\Lib\\site-packages\\cleverminer\\cleverminer.py:183: SettingWithCopyWarning:\n",
      "\n",
      "\n",
      "A value is trying to be set on a copy of a slice from a DataFrame.\n",
      "Try using .loc[row_indexer,col_indexer] = value instead\n",
      "\n",
      "See the caveats in the documentation: https://pandas.pydata.org/pandas-docs/stable/user_guide/indexing.html#returning-a-view-versus-a-copy\n",
      "\n",
      "c:\\Users\\lukas\\anaconda3\\Lib\\site-packages\\cleverminer\\cleverminer.py:188: SettingWithCopyWarning:\n",
      "\n",
      "\n",
      "A value is trying to be set on a copy of a slice from a DataFrame.\n",
      "Try using .loc[row_indexer,col_indexer] = value instead\n",
      "\n",
      "See the caveats in the documentation: https://pandas.pydata.org/pandas-docs/stable/user_guide/indexing.html#returning-a-view-versus-a-copy\n",
      "\n",
      "c:\\Users\\lukas\\anaconda3\\Lib\\site-packages\\cleverminer\\cleverminer.py:174: SettingWithCopyWarning:\n",
      "\n",
      "\n",
      "A value is trying to be set on a copy of a slice from a DataFrame.\n",
      "Try using .loc[row_indexer,col_indexer] = value instead\n",
      "\n",
      "See the caveats in the documentation: https://pandas.pydata.org/pandas-docs/stable/user_guide/indexing.html#returning-a-view-versus-a-copy\n",
      "\n",
      "c:\\Users\\lukas\\anaconda3\\Lib\\site-packages\\cleverminer\\cleverminer.py:183: SettingWithCopyWarning:\n",
      "\n",
      "\n",
      "A value is trying to be set on a copy of a slice from a DataFrame.\n",
      "Try using .loc[row_indexer,col_indexer] = value instead\n",
      "\n",
      "See the caveats in the documentation: https://pandas.pydata.org/pandas-docs/stable/user_guide/indexing.html#returning-a-view-versus-a-copy\n",
      "\n",
      "c:\\Users\\lukas\\anaconda3\\Lib\\site-packages\\cleverminer\\cleverminer.py:188: SettingWithCopyWarning:\n",
      "\n",
      "\n",
      "A value is trying to be set on a copy of a slice from a DataFrame.\n",
      "Try using .loc[row_indexer,col_indexer] = value instead\n",
      "\n",
      "See the caveats in the documentation: https://pandas.pydata.org/pandas-docs/stable/user_guide/indexing.html#returning-a-view-versus-a-copy\n",
      "\n",
      "c:\\Users\\lukas\\anaconda3\\Lib\\site-packages\\cleverminer\\cleverminer.py:174: SettingWithCopyWarning:\n",
      "\n",
      "\n",
      "A value is trying to be set on a copy of a slice from a DataFrame.\n",
      "Try using .loc[row_indexer,col_indexer] = value instead\n",
      "\n",
      "See the caveats in the documentation: https://pandas.pydata.org/pandas-docs/stable/user_guide/indexing.html#returning-a-view-versus-a-copy\n",
      "\n",
      "c:\\Users\\lukas\\anaconda3\\Lib\\site-packages\\cleverminer\\cleverminer.py:183: SettingWithCopyWarning:\n",
      "\n",
      "\n",
      "A value is trying to be set on a copy of a slice from a DataFrame.\n",
      "Try using .loc[row_indexer,col_indexer] = value instead\n",
      "\n",
      "See the caveats in the documentation: https://pandas.pydata.org/pandas-docs/stable/user_guide/indexing.html#returning-a-view-versus-a-copy\n",
      "\n",
      "c:\\Users\\lukas\\anaconda3\\Lib\\site-packages\\cleverminer\\cleverminer.py:188: SettingWithCopyWarning:\n",
      "\n",
      "\n",
      "A value is trying to be set on a copy of a slice from a DataFrame.\n",
      "Try using .loc[row_indexer,col_indexer] = value instead\n",
      "\n",
      "See the caveats in the documentation: https://pandas.pydata.org/pandas-docs/stable/user_guide/indexing.html#returning-a-view-versus-a-copy\n",
      "\n",
      "c:\\Users\\lukas\\anaconda3\\Lib\\site-packages\\cleverminer\\cleverminer.py:174: SettingWithCopyWarning:\n",
      "\n",
      "\n",
      "A value is trying to be set on a copy of a slice from a DataFrame.\n",
      "Try using .loc[row_indexer,col_indexer] = value instead\n",
      "\n",
      "See the caveats in the documentation: https://pandas.pydata.org/pandas-docs/stable/user_guide/indexing.html#returning-a-view-versus-a-copy\n",
      "\n",
      "c:\\Users\\lukas\\anaconda3\\Lib\\site-packages\\cleverminer\\cleverminer.py:183: SettingWithCopyWarning:\n",
      "\n",
      "\n",
      "A value is trying to be set on a copy of a slice from a DataFrame.\n",
      "Try using .loc[row_indexer,col_indexer] = value instead\n",
      "\n",
      "See the caveats in the documentation: https://pandas.pydata.org/pandas-docs/stable/user_guide/indexing.html#returning-a-view-versus-a-copy\n",
      "\n",
      "c:\\Users\\lukas\\anaconda3\\Lib\\site-packages\\cleverminer\\cleverminer.py:188: SettingWithCopyWarning:\n",
      "\n",
      "\n",
      "A value is trying to be set on a copy of a slice from a DataFrame.\n",
      "Try using .loc[row_indexer,col_indexer] = value instead\n",
      "\n",
      "See the caveats in the documentation: https://pandas.pydata.org/pandas-docs/stable/user_guide/indexing.html#returning-a-view-versus-a-copy\n",
      "\n",
      "c:\\Users\\lukas\\anaconda3\\Lib\\site-packages\\cleverminer\\cleverminer.py:174: SettingWithCopyWarning:\n",
      "\n",
      "\n",
      "A value is trying to be set on a copy of a slice from a DataFrame.\n",
      "Try using .loc[row_indexer,col_indexer] = value instead\n",
      "\n",
      "See the caveats in the documentation: https://pandas.pydata.org/pandas-docs/stable/user_guide/indexing.html#returning-a-view-versus-a-copy\n",
      "\n",
      "c:\\Users\\lukas\\anaconda3\\Lib\\site-packages\\cleverminer\\cleverminer.py:188: SettingWithCopyWarning:\n",
      "\n",
      "\n",
      "A value is trying to be set on a copy of a slice from a DataFrame.\n",
      "Try using .loc[row_indexer,col_indexer] = value instead\n",
      "\n",
      "See the caveats in the documentation: https://pandas.pydata.org/pandas-docs/stable/user_guide/indexing.html#returning-a-view-versus-a-copy\n",
      "\n",
      "c:\\Users\\lukas\\anaconda3\\Lib\\site-packages\\cleverminer\\cleverminer.py:174: SettingWithCopyWarning:\n",
      "\n",
      "\n",
      "A value is trying to be set on a copy of a slice from a DataFrame.\n",
      "Try using .loc[row_indexer,col_indexer] = value instead\n",
      "\n",
      "See the caveats in the documentation: https://pandas.pydata.org/pandas-docs/stable/user_guide/indexing.html#returning-a-view-versus-a-copy\n",
      "\n",
      "c:\\Users\\lukas\\anaconda3\\Lib\\site-packages\\cleverminer\\cleverminer.py:188: SettingWithCopyWarning:\n",
      "\n",
      "\n",
      "A value is trying to be set on a copy of a slice from a DataFrame.\n",
      "Try using .loc[row_indexer,col_indexer] = value instead\n",
      "\n",
      "See the caveats in the documentation: https://pandas.pydata.org/pandas-docs/stable/user_guide/indexing.html#returning-a-view-versus-a-copy\n",
      "\n",
      "c:\\Users\\lukas\\anaconda3\\Lib\\site-packages\\cleverminer\\cleverminer.py:174: SettingWithCopyWarning:\n",
      "\n",
      "\n",
      "A value is trying to be set on a copy of a slice from a DataFrame.\n",
      "Try using .loc[row_indexer,col_indexer] = value instead\n",
      "\n",
      "See the caveats in the documentation: https://pandas.pydata.org/pandas-docs/stable/user_guide/indexing.html#returning-a-view-versus-a-copy\n",
      "\n",
      "c:\\Users\\lukas\\anaconda3\\Lib\\site-packages\\cleverminer\\cleverminer.py:188: SettingWithCopyWarning:\n",
      "\n",
      "\n",
      "A value is trying to be set on a copy of a slice from a DataFrame.\n",
      "Try using .loc[row_indexer,col_indexer] = value instead\n",
      "\n",
      "See the caveats in the documentation: https://pandas.pydata.org/pandas-docs/stable/user_guide/indexing.html#returning-a-view-versus-a-copy\n",
      "\n",
      "c:\\Users\\lukas\\anaconda3\\Lib\\site-packages\\cleverminer\\cleverminer.py:174: SettingWithCopyWarning:\n",
      "\n",
      "\n",
      "A value is trying to be set on a copy of a slice from a DataFrame.\n",
      "Try using .loc[row_indexer,col_indexer] = value instead\n",
      "\n",
      "See the caveats in the documentation: https://pandas.pydata.org/pandas-docs/stable/user_guide/indexing.html#returning-a-view-versus-a-copy\n",
      "\n",
      "c:\\Users\\lukas\\anaconda3\\Lib\\site-packages\\cleverminer\\cleverminer.py:188: SettingWithCopyWarning:\n",
      "\n",
      "\n",
      "A value is trying to be set on a copy of a slice from a DataFrame.\n",
      "Try using .loc[row_indexer,col_indexer] = value instead\n",
      "\n",
      "See the caveats in the documentation: https://pandas.pydata.org/pandas-docs/stable/user_guide/indexing.html#returning-a-view-versus-a-copy\n",
      "\n",
      "c:\\Users\\lukas\\anaconda3\\Lib\\site-packages\\cleverminer\\cleverminer.py:174: SettingWithCopyWarning:\n",
      "\n",
      "\n",
      "A value is trying to be set on a copy of a slice from a DataFrame.\n",
      "Try using .loc[row_indexer,col_indexer] = value instead\n",
      "\n",
      "See the caveats in the documentation: https://pandas.pydata.org/pandas-docs/stable/user_guide/indexing.html#returning-a-view-versus-a-copy\n",
      "\n",
      "c:\\Users\\lukas\\anaconda3\\Lib\\site-packages\\cleverminer\\cleverminer.py:183: SettingWithCopyWarning:\n",
      "\n",
      "\n",
      "A value is trying to be set on a copy of a slice from a DataFrame.\n",
      "Try using .loc[row_indexer,col_indexer] = value instead\n",
      "\n",
      "See the caveats in the documentation: https://pandas.pydata.org/pandas-docs/stable/user_guide/indexing.html#returning-a-view-versus-a-copy\n",
      "\n",
      "c:\\Users\\lukas\\anaconda3\\Lib\\site-packages\\cleverminer\\cleverminer.py:188: SettingWithCopyWarning:\n",
      "\n",
      "\n",
      "A value is trying to be set on a copy of a slice from a DataFrame.\n",
      "Try using .loc[row_indexer,col_indexer] = value instead\n",
      "\n",
      "See the caveats in the documentation: https://pandas.pydata.org/pandas-docs/stable/user_guide/indexing.html#returning-a-view-versus-a-copy\n",
      "\n",
      "c:\\Users\\lukas\\anaconda3\\Lib\\site-packages\\cleverminer\\cleverminer.py:174: SettingWithCopyWarning:\n",
      "\n",
      "\n",
      "A value is trying to be set on a copy of a slice from a DataFrame.\n",
      "Try using .loc[row_indexer,col_indexer] = value instead\n",
      "\n",
      "See the caveats in the documentation: https://pandas.pydata.org/pandas-docs/stable/user_guide/indexing.html#returning-a-view-versus-a-copy\n",
      "\n",
      "c:\\Users\\lukas\\anaconda3\\Lib\\site-packages\\cleverminer\\cleverminer.py:188: SettingWithCopyWarning:\n",
      "\n",
      "\n",
      "A value is trying to be set on a copy of a slice from a DataFrame.\n",
      "Try using .loc[row_indexer,col_indexer] = value instead\n",
      "\n",
      "See the caveats in the documentation: https://pandas.pydata.org/pandas-docs/stable/user_guide/indexing.html#returning-a-view-versus-a-copy\n",
      "\n",
      "c:\\Users\\lukas\\anaconda3\\Lib\\site-packages\\cleverminer\\cleverminer.py:174: SettingWithCopyWarning:\n",
      "\n",
      "\n",
      "A value is trying to be set on a copy of a slice from a DataFrame.\n",
      "Try using .loc[row_indexer,col_indexer] = value instead\n",
      "\n",
      "See the caveats in the documentation: https://pandas.pydata.org/pandas-docs/stable/user_guide/indexing.html#returning-a-view-versus-a-copy\n",
      "\n",
      "c:\\Users\\lukas\\anaconda3\\Lib\\site-packages\\cleverminer\\cleverminer.py:188: SettingWithCopyWarning:\n",
      "\n",
      "\n",
      "A value is trying to be set on a copy of a slice from a DataFrame.\n",
      "Try using .loc[row_indexer,col_indexer] = value instead\n",
      "\n",
      "See the caveats in the documentation: https://pandas.pydata.org/pandas-docs/stable/user_guide/indexing.html#returning-a-view-versus-a-copy\n",
      "\n",
      "c:\\Users\\lukas\\anaconda3\\Lib\\site-packages\\cleverminer\\cleverminer.py:174: SettingWithCopyWarning:\n",
      "\n",
      "\n",
      "A value is trying to be set on a copy of a slice from a DataFrame.\n",
      "Try using .loc[row_indexer,col_indexer] = value instead\n",
      "\n",
      "See the caveats in the documentation: https://pandas.pydata.org/pandas-docs/stable/user_guide/indexing.html#returning-a-view-versus-a-copy\n",
      "\n",
      "c:\\Users\\lukas\\anaconda3\\Lib\\site-packages\\cleverminer\\cleverminer.py:188: SettingWithCopyWarning:\n",
      "\n",
      "\n",
      "A value is trying to be set on a copy of a slice from a DataFrame.\n",
      "Try using .loc[row_indexer,col_indexer] = value instead\n",
      "\n",
      "See the caveats in the documentation: https://pandas.pydata.org/pandas-docs/stable/user_guide/indexing.html#returning-a-view-versus-a-copy\n",
      "\n",
      "c:\\Users\\lukas\\anaconda3\\Lib\\site-packages\\cleverminer\\cleverminer.py:174: SettingWithCopyWarning:\n",
      "\n",
      "\n",
      "A value is trying to be set on a copy of a slice from a DataFrame.\n",
      "Try using .loc[row_indexer,col_indexer] = value instead\n",
      "\n",
      "See the caveats in the documentation: https://pandas.pydata.org/pandas-docs/stable/user_guide/indexing.html#returning-a-view-versus-a-copy\n",
      "\n",
      "c:\\Users\\lukas\\anaconda3\\Lib\\site-packages\\cleverminer\\cleverminer.py:188: SettingWithCopyWarning:\n",
      "\n",
      "\n",
      "A value is trying to be set on a copy of a slice from a DataFrame.\n",
      "Try using .loc[row_indexer,col_indexer] = value instead\n",
      "\n",
      "See the caveats in the documentation: https://pandas.pydata.org/pandas-docs/stable/user_guide/indexing.html#returning-a-view-versus-a-copy\n",
      "\n",
      "c:\\Users\\lukas\\anaconda3\\Lib\\site-packages\\cleverminer\\cleverminer.py:174: SettingWithCopyWarning:\n",
      "\n",
      "\n",
      "A value is trying to be set on a copy of a slice from a DataFrame.\n",
      "Try using .loc[row_indexer,col_indexer] = value instead\n",
      "\n",
      "See the caveats in the documentation: https://pandas.pydata.org/pandas-docs/stable/user_guide/indexing.html#returning-a-view-versus-a-copy\n",
      "\n",
      "c:\\Users\\lukas\\anaconda3\\Lib\\site-packages\\cleverminer\\cleverminer.py:188: SettingWithCopyWarning:\n",
      "\n",
      "\n",
      "A value is trying to be set on a copy of a slice from a DataFrame.\n",
      "Try using .loc[row_indexer,col_indexer] = value instead\n",
      "\n",
      "See the caveats in the documentation: https://pandas.pydata.org/pandas-docs/stable/user_guide/indexing.html#returning-a-view-versus-a-copy\n",
      "\n",
      "c:\\Users\\lukas\\anaconda3\\Lib\\site-packages\\cleverminer\\cleverminer.py:174: SettingWithCopyWarning:\n",
      "\n",
      "\n",
      "A value is trying to be set on a copy of a slice from a DataFrame.\n",
      "Try using .loc[row_indexer,col_indexer] = value instead\n",
      "\n",
      "See the caveats in the documentation: https://pandas.pydata.org/pandas-docs/stable/user_guide/indexing.html#returning-a-view-versus-a-copy\n",
      "\n",
      "c:\\Users\\lukas\\anaconda3\\Lib\\site-packages\\cleverminer\\cleverminer.py:188: SettingWithCopyWarning:\n",
      "\n",
      "\n",
      "A value is trying to be set on a copy of a slice from a DataFrame.\n",
      "Try using .loc[row_indexer,col_indexer] = value instead\n",
      "\n",
      "See the caveats in the documentation: https://pandas.pydata.org/pandas-docs/stable/user_guide/indexing.html#returning-a-view-versus-a-copy\n",
      "\n",
      "c:\\Users\\lukas\\anaconda3\\Lib\\site-packages\\cleverminer\\cleverminer.py:174: SettingWithCopyWarning:\n",
      "\n",
      "\n",
      "A value is trying to be set on a copy of a slice from a DataFrame.\n",
      "Try using .loc[row_indexer,col_indexer] = value instead\n",
      "\n",
      "See the caveats in the documentation: https://pandas.pydata.org/pandas-docs/stable/user_guide/indexing.html#returning-a-view-versus-a-copy\n",
      "\n",
      "c:\\Users\\lukas\\anaconda3\\Lib\\site-packages\\cleverminer\\cleverminer.py:188: SettingWithCopyWarning:\n",
      "\n",
      "\n",
      "A value is trying to be set on a copy of a slice from a DataFrame.\n",
      "Try using .loc[row_indexer,col_indexer] = value instead\n",
      "\n",
      "See the caveats in the documentation: https://pandas.pydata.org/pandas-docs/stable/user_guide/indexing.html#returning-a-view-versus-a-copy\n",
      "\n",
      "c:\\Users\\lukas\\anaconda3\\Lib\\site-packages\\cleverminer\\cleverminer.py:174: SettingWithCopyWarning:\n",
      "\n",
      "\n",
      "A value is trying to be set on a copy of a slice from a DataFrame.\n",
      "Try using .loc[row_indexer,col_indexer] = value instead\n",
      "\n",
      "See the caveats in the documentation: https://pandas.pydata.org/pandas-docs/stable/user_guide/indexing.html#returning-a-view-versus-a-copy\n",
      "\n",
      "c:\\Users\\lukas\\anaconda3\\Lib\\site-packages\\cleverminer\\cleverminer.py:188: SettingWithCopyWarning:\n",
      "\n",
      "\n",
      "A value is trying to be set on a copy of a slice from a DataFrame.\n",
      "Try using .loc[row_indexer,col_indexer] = value instead\n",
      "\n",
      "See the caveats in the documentation: https://pandas.pydata.org/pandas-docs/stable/user_guide/indexing.html#returning-a-view-versus-a-copy\n",
      "\n",
      "c:\\Users\\lukas\\anaconda3\\Lib\\site-packages\\cleverminer\\cleverminer.py:174: SettingWithCopyWarning:\n",
      "\n",
      "\n",
      "A value is trying to be set on a copy of a slice from a DataFrame.\n",
      "Try using .loc[row_indexer,col_indexer] = value instead\n",
      "\n",
      "See the caveats in the documentation: https://pandas.pydata.org/pandas-docs/stable/user_guide/indexing.html#returning-a-view-versus-a-copy\n",
      "\n",
      "c:\\Users\\lukas\\anaconda3\\Lib\\site-packages\\cleverminer\\cleverminer.py:188: SettingWithCopyWarning:\n",
      "\n",
      "\n",
      "A value is trying to be set on a copy of a slice from a DataFrame.\n",
      "Try using .loc[row_indexer,col_indexer] = value instead\n",
      "\n",
      "See the caveats in the documentation: https://pandas.pydata.org/pandas-docs/stable/user_guide/indexing.html#returning-a-view-versus-a-copy\n",
      "\n",
      "c:\\Users\\lukas\\anaconda3\\Lib\\site-packages\\cleverminer\\cleverminer.py:218: SettingWithCopyWarning:\n",
      "\n",
      "\n",
      "A value is trying to be set on a copy of a slice from a DataFrame.\n",
      "Try using .loc[row_indexer,col_indexer] = value instead\n",
      "\n",
      "See the caveats in the documentation: https://pandas.pydata.org/pandas-docs/stable/user_guide/indexing.html#returning-a-view-versus-a-copy\n",
      "\n",
      "c:\\Users\\lukas\\anaconda3\\Lib\\site-packages\\cleverminer\\cleverminer.py:231: SettingWithCopyWarning:\n",
      "\n",
      "\n",
      "A value is trying to be set on a copy of a slice from a DataFrame.\n",
      "Try using .loc[row_indexer,col_indexer] = value instead\n",
      "\n",
      "See the caveats in the documentation: https://pandas.pydata.org/pandas-docs/stable/user_guide/indexing.html#returning-a-view-versus-a-copy\n",
      "\n",
      "c:\\Users\\lukas\\anaconda3\\Lib\\site-packages\\cleverminer\\cleverminer.py:231: SettingWithCopyWarning:\n",
      "\n",
      "\n",
      "A value is trying to be set on a copy of a slice from a DataFrame.\n",
      "Try using .loc[row_indexer,col_indexer] = value instead\n",
      "\n",
      "See the caveats in the documentation: https://pandas.pydata.org/pandas-docs/stable/user_guide/indexing.html#returning-a-view-versus-a-copy\n",
      "\n",
      "c:\\Users\\lukas\\anaconda3\\Lib\\site-packages\\cleverminer\\cleverminer.py:231: SettingWithCopyWarning:\n",
      "\n",
      "\n",
      "A value is trying to be set on a copy of a slice from a DataFrame.\n",
      "Try using .loc[row_indexer,col_indexer] = value instead\n",
      "\n",
      "See the caveats in the documentation: https://pandas.pydata.org/pandas-docs/stable/user_guide/indexing.html#returning-a-view-versus-a-copy\n",
      "\n"
     ]
    },
    {
     "name": "stdout",
     "output_type": "stream",
     "text": [
      "WARNING: attribute Unnamed: 0 has more than 100 values, will be ignored.\n",
      " If you haven't set maximum number of categories and you really need more categories and you know what you are doing, please use max_categories option to increase allowed number of categories.\n",
      "WARNING: attribute DEP_DELAY_NEW has more than 100 values, will be ignored.\n",
      " If you haven't set maximum number of categories and you really need more categories and you know what you are doing, please use max_categories option to increase allowed number of categories.\n",
      "WARNING: attribute TAXI_OUT has more than 100 values, will be ignored.\n",
      " If you haven't set maximum number of categories and you really need more categories and you know what you are doing, please use max_categories option to increase allowed number of categories.\n",
      "WARNING: attribute ARR_DELAY_NEW has more than 100 values, will be ignored.\n",
      " If you haven't set maximum number of categories and you really need more categories and you know what you are doing, please use max_categories option to increase allowed number of categories.\n",
      "WARNING: attribute CRS_ELAPSED_TIME has more than 100 values, will be ignored.\n",
      " If you haven't set maximum number of categories and you really need more categories and you know what you are doing, please use max_categories option to increase allowed number of categories.\n",
      "WARNING: attribute ACTUAL_ELAPSED_TIME has more than 100 values, will be ignored.\n",
      " If you haven't set maximum number of categories and you really need more categories and you know what you are doing, please use max_categories option to increase allowed number of categories.\n",
      "WARNING: attribute AIR_TIME has more than 100 values, will be ignored.\n",
      " If you haven't set maximum number of categories and you really need more categories and you know what you are doing, please use max_categories option to increase allowed number of categories.\n",
      "WARNING: attribute DISTANCE has more than 100 values, will be ignored.\n",
      " If you haven't set maximum number of categories and you really need more categories and you know what you are doing, please use max_categories option to increase allowed number of categories.\n",
      "WARNING: attribute CARRIER_DELAY has more than 100 values, will be ignored.\n",
      " If you haven't set maximum number of categories and you really need more categories and you know what you are doing, please use max_categories option to increase allowed number of categories.\n",
      "WARNING: attribute WEATHER_DELAY has more than 100 values, will be ignored.\n",
      " If you haven't set maximum number of categories and you really need more categories and you know what you are doing, please use max_categories option to increase allowed number of categories.\n",
      "WARNING: attribute NAS_DELAY has more than 100 values, will be ignored.\n",
      " If you haven't set maximum number of categories and you really need more categories and you know what you are doing, please use max_categories option to increase allowed number of categories.\n",
      "WARNING: attribute LATE_AIRCRAFT_DELAY has more than 100 values, will be ignored.\n",
      " If you haven't set maximum number of categories and you really need more categories and you know what you are doing, please use max_categories option to increase allowed number of categories.\n",
      "WARNING: attribute relh has more than 100 values, will be ignored.\n",
      " If you haven't set maximum number of categories and you really need more categories and you know what you are doing, please use max_categories option to increase allowed number of categories.\n",
      "WARNING: attribute mslp has more than 100 values, will be ignored.\n",
      " If you haven't set maximum number of categories and you really need more categories and you know what you are doing, please use max_categories option to increase allowed number of categories.\n",
      "WARNING: attribute feel has more than 100 values, will be ignored.\n",
      " If you haven't set maximum number of categories and you really need more categories and you know what you are doing, please use max_categories option to increase allowed number of categories.\n",
      "WARNING: attribute valid_date_time_H has more than 100 values, will be ignored.\n",
      " If you haven't set maximum number of categories and you really need more categories and you know what you are doing, please use max_categories option to increase allowed number of categories.\n",
      "Encoding columns into bit-form...\n",
      "Encoding columns into bit-form...done\n",
      "Data preparation finished.\n",
      "Will go for  CFMiner\n",
      "Starting to mine rules.\n"
     ]
    },
    {
     "name": "stderr",
     "output_type": "stream",
     "text": [
      "c:\\Users\\lukas\\anaconda3\\Lib\\site-packages\\cleverminer\\cleverminer.py:231: SettingWithCopyWarning:\n",
      "\n",
      "\n",
      "A value is trying to be set on a copy of a slice from a DataFrame.\n",
      "Try using .loc[row_indexer,col_indexer] = value instead\n",
      "\n",
      "See the caveats in the documentation: https://pandas.pydata.org/pandas-docs/stable/user_guide/indexing.html#returning-a-view-versus-a-copy\n",
      "\n",
      "c:\\Users\\lukas\\anaconda3\\Lib\\site-packages\\cleverminer\\cleverminer.py:231: SettingWithCopyWarning:\n",
      "\n",
      "\n",
      "A value is trying to be set on a copy of a slice from a DataFrame.\n",
      "Try using .loc[row_indexer,col_indexer] = value instead\n",
      "\n",
      "See the caveats in the documentation: https://pandas.pydata.org/pandas-docs/stable/user_guide/indexing.html#returning-a-view-versus-a-copy\n",
      "\n",
      "c:\\Users\\lukas\\anaconda3\\Lib\\site-packages\\cleverminer\\cleverminer.py:231: SettingWithCopyWarning:\n",
      "\n",
      "\n",
      "A value is trying to be set on a copy of a slice from a DataFrame.\n",
      "Try using .loc[row_indexer,col_indexer] = value instead\n",
      "\n",
      "See the caveats in the documentation: https://pandas.pydata.org/pandas-docs/stable/user_guide/indexing.html#returning-a-view-versus-a-copy\n",
      "\n",
      "c:\\Users\\lukas\\anaconda3\\Lib\\site-packages\\cleverminer\\cleverminer.py:231: SettingWithCopyWarning:\n",
      "\n",
      "\n",
      "A value is trying to be set on a copy of a slice from a DataFrame.\n",
      "Try using .loc[row_indexer,col_indexer] = value instead\n",
      "\n",
      "See the caveats in the documentation: https://pandas.pydata.org/pandas-docs/stable/user_guide/indexing.html#returning-a-view-versus-a-copy\n",
      "\n",
      "c:\\Users\\lukas\\anaconda3\\Lib\\site-packages\\cleverminer\\cleverminer.py:231: SettingWithCopyWarning:\n",
      "\n",
      "\n",
      "A value is trying to be set on a copy of a slice from a DataFrame.\n",
      "Try using .loc[row_indexer,col_indexer] = value instead\n",
      "\n",
      "See the caveats in the documentation: https://pandas.pydata.org/pandas-docs/stable/user_guide/indexing.html#returning-a-view-versus-a-copy\n",
      "\n",
      "c:\\Users\\lukas\\anaconda3\\Lib\\site-packages\\cleverminer\\cleverminer.py:231: SettingWithCopyWarning:\n",
      "\n",
      "\n",
      "A value is trying to be set on a copy of a slice from a DataFrame.\n",
      "Try using .loc[row_indexer,col_indexer] = value instead\n",
      "\n",
      "See the caveats in the documentation: https://pandas.pydata.org/pandas-docs/stable/user_guide/indexing.html#returning-a-view-versus-a-copy\n",
      "\n",
      "c:\\Users\\lukas\\anaconda3\\Lib\\site-packages\\cleverminer\\cleverminer.py:231: SettingWithCopyWarning:\n",
      "\n",
      "\n",
      "A value is trying to be set on a copy of a slice from a DataFrame.\n",
      "Try using .loc[row_indexer,col_indexer] = value instead\n",
      "\n",
      "See the caveats in the documentation: https://pandas.pydata.org/pandas-docs/stable/user_guide/indexing.html#returning-a-view-versus-a-copy\n",
      "\n",
      "c:\\Users\\lukas\\anaconda3\\Lib\\site-packages\\cleverminer\\cleverminer.py:231: SettingWithCopyWarning:\n",
      "\n",
      "\n",
      "A value is trying to be set on a copy of a slice from a DataFrame.\n",
      "Try using .loc[row_indexer,col_indexer] = value instead\n",
      "\n",
      "See the caveats in the documentation: https://pandas.pydata.org/pandas-docs/stable/user_guide/indexing.html#returning-a-view-versus-a-copy\n",
      "\n"
     ]
    },
    {
     "name": "stdout",
     "output_type": "stream",
     "text": [
      "  0%|                                                    |Elapsed Time: 0:00:00\n",
      "100%|####################################################|Elapsed Time: 0:00:00\n",
      "Done. Total verifications : 72, rules 4, times: prep 0.64sec, processing 0.06sec\n",
      "\n",
      "\n",
      "Rule id : 1\n",
      "\n",
      "Base :   261  Relative base : 0.027  Steps UP (consecutive) :     3  Steps DOWN (consecutive) :     4  Steps UP (any) :     5  Steps DOWN (any) :     7  Histogram maximum :   129  Histogram minimum :     0  Histogram relative maximum : 0.494 Histogram relative minimum : 0.000 \n",
      "\n",
      "Condition  : vsby(10.0) & station(JFK) & drct_category(North-West) & sknt_category(Very High)\n",
      "\n",
      "Categories in target variable  [0, 1, 2, 3, 4, 5, 6, 7, 8, 9, 10, 11, 12]\n",
      "Histogram                      [129, 39, 31, 13, 5, 15, 6, 2, 5, 0, 2, 3, 11]\n",
      "\n"
     ]
    }
   ],
   "source": [
    "clm = cm(df= df_not_null,target='DEP_DELAY_GROUP',proc='CFMiner',\n",
    "               quantifiers= {'Base':30, 'S_Any_Up':3},\n",
    "               cond ={\n",
    "                   'attributes':[\n",
    "                        {'name': 'vsby', 'type': 'subset', 'minlen': 1, 'maxlen': 1},\n",
    "                        {'name': 'station', 'type': 'subset', 'minlen': 1, 'maxlen': 1},\n",
    "                        {'name': 'drct_category', 'type': 'subset', 'minlen': 1, 'maxlen': 1},\n",
    "                        {'name': 'sknt_category', 'type': 'subset', 'minlen': 1, 'maxlen': 1},\n",
    "                        ], 'minlen':4, 'maxlen':4, 'type':'con'}\n",
    "               )\n",
    "clm.print_rule(1)"
   ]
  },
  {
   "cell_type": "markdown",
   "metadata": {},
   "source": [
    "### bohužel se něco někde pohnulo a nemůžu reprodukovat výsledky uvedené v grafu. CFMiner už uvedené pravidlo nenajde"
   ]
  },
  {
   "cell_type": "code",
   "execution_count": 36,
   "metadata": {},
   "outputs": [
    {
     "data": {
      "image/png": "[encoded data removed]",
      "text/plain": [
       "<Figure size 640x480 with 1 Axes>"
      ]
     },
     "metadata": {},
     "output_type": "display_data"
    }
   ],
   "source": [
    "import matplotlib.colors as mcolors\n",
    "\n",
    "labels = [0, 1, 2, 3, 4, 5, 6, 7, 8, 9, 10, 11, 12]\n",
    "histogram = [2, 10, 15, 24, 26, 13, 15, 7, 7, 6, 3, 3, 12]\n",
    "\n",
    "# Create a colormap\n",
    "cmap = mcolors.LinearSegmentedColormap.from_list(\"\", [\"green\", \"red\"])\n",
    "\n",
    "plt.bar(labels, histogram, color=cmap(np.array(labels)/max(labels)))\n",
    "plt.xlabel('Arrival delay type')\n",
    "plt.ylabel('Number of flights')\n",
    "plt.title('Distribution of Departure delay type based on weather and airport \\nvsby(10.0) & station(LGA) & drct_category(South-East) & sknt_category(High)')\n",
    "plt.show()"
   ]
  },
  {
   "cell_type": "markdown",
   "metadata": {},
   "source": [
    "# 4ftMiner"
   ]
  },
  {
   "cell_type": "markdown",
   "metadata": {},
   "source": [
    "# SD-4FT_MINER_2"
   ]
  },
  {
   "cell_type": "code",
   "execution_count": 37,
   "metadata": {},
   "outputs": [
    {
     "name": "stdout",
     "output_type": "stream",
     "text": [
      "Cleverminer version 1.0.8.\n",
      "Starting data preparation ...\n",
      "Automatically reordering numeric categories ...\n",
      "Encoding columns into bit-form...\n",
      "Encoding columns into bit-form...done\n",
      "Data preparation finished.\n",
      "Will go for  SD4ftMiner\n",
      "Starting to mine rules.\n",
      "  0%|                                                    |Elapsed Time: 0:00:00\n",
      "100%|####################################################|Elapsed Time: 0:00:00\n",
      "Done. Total verifications : 58, rules 5, times: prep 0.76sec, processing 0.02sec\n",
      "\n",
      "List of rules:\n",
      "RULEID BASE1 BASE2 RatioConf DeltaConf Rule\n",
      "     1   197    73    1.957    +0.021  skyc1(BKN) => DEP_DELAY_GROUP(3) | --- : DEST(LGA) x DEST(JFK)\n",
      "     2   154    54    2.069    +0.018  skyc1(BKN) => DEP_DELAY_GROUP(4) | --- : DEST(LGA) x DEST(JFK)\n",
      "     3    79    22    2.605    +0.011  skyc1(BKN) => DEP_DELAY_GROUP(6) | --- : DEST(LGA) x DEST(JFK)\n",
      "     4    74    20    2.684    +0.010  skyc1(BKN) => DEP_DELAY_GROUP(7) | --- : DEST(LGA) x DEST(JFK)\n",
      "     5    57    23    1.875    +0.009  skyc1(OVC) => DEP_DELAY_GROUP(4) | --- : DEST(LGA) x DEST(JFK)\n",
      "\n",
      "\n",
      "\n",
      "Rule id : 1\n",
      "\n",
      "Base1 :   197 Base2 :    73  Relative base 1 : 0.007 Relative base 2 : 0.003 CONF1 : 0.044  CONF2 : +0.022  Delta Conf : +0.021 Ratio Conf : +1.957\n",
      "\n",
      "Cedents:\n",
      "  antecedent : skyc1(BKN)\n",
      "  succcedent : DEP_DELAY_GROUP(3)\n",
      "  condition  : ---\n",
      "  first set  : DEST(LGA)\n",
      "  second set : DEST(JFK)\n",
      "\n",
      "Fourfold tables:\n",
      "FRST|  S  |  ¬S |  SCND|  S  |  ¬S |\n",
      "----|-----|-----|  ----|-----|-----| \n",
      " A  |  197| 4321|   A  |   73| 3204|\n",
      "----|-----|-----|  ----|-----|-----|\n",
      "¬A  |  296|10589|  ¬A  |  173| 8206|\n",
      "----|-----|-----|  ----|-----|-----|\n",
      "\n"
     ]
    }
   ],
   "source": [
    "clm = cm(df=df,proc='SD4ftMiner',\n",
    "               quantifiers= {'Base1':20, 'Base2':20, 'Ratioconf' : 1.8},\n",
    "               ante ={\n",
    "                    'attributes':[\n",
    "                        {'name': 'skyc1', 'type': 'subset', 'minlen': 1, 'maxlen': 1}\n",
    "                    ], 'minlen':1, 'maxlen':1, 'type':'con'},\n",
    "               succ ={\n",
    "                    'attributes':[\n",
    "                        {'name': 'DEP_DELAY_GROUP', 'type': 'subset', 'minlen': 1, 'maxlen': 1}\n",
    "                    ], 'minlen':1, 'maxlen':1, 'type':'con'},\n",
    "               frst ={\n",
    "                    'attributes':[\n",
    "                        {'name': 'DEST', 'type': 'one', 'value':'LGA'}\n",
    "                    ], 'minlen':1, 'maxlen':1, 'type':'con'},\n",
    "               scnd ={\n",
    "                    'attributes':[\n",
    "                        {'name': 'DEST', 'type': 'one', 'value':'JFK'}\n",
    "                    ], 'minlen':1, 'maxlen':1, 'type':'con'},\n",
    "               opts = {'max_categories' : 500}\n",
    "               )\n",
    "\n",
    "clm.print_rulelist()\n",
    "clm.print_rule(1)"
   ]
  },
  {
   "cell_type": "markdown",
   "metadata": {},
   "source": [
    "# SD-4FT_MINER_3"
   ]
  },
  {
   "cell_type": "code",
   "execution_count": 38,
   "metadata": {},
   "outputs": [
    {
     "name": "stdout",
     "output_type": "stream",
     "text": [
      "Cleverminer version 1.0.8.\n",
      "Starting data preparation ...\n",
      "Automatically reordering numeric categories ...\n",
      "Encoding columns into bit-form...\n",
      "Encoding columns into bit-form...done\n",
      "Data preparation finished.\n",
      "Will go for  SD4ftMiner\n",
      "Starting to mine rules.\n",
      "  0%|                                                    |Elapsed Time: 0:00:00\n",
      "  2%|#                                                   |Elapsed Time: 0:00:00\n",
      "  5%|##                                                  |Elapsed Time: 0:00:00\n",
      " 10%|#####                                               |Elapsed Time: 0:00:00\n",
      "100%|####################################################|Elapsed Time: 0:00:00\n",
      "Done. Total verifications : 1026, rules 40, times: prep 0.73sec, processing 0.18sec\n",
      "\n",
      "List of rules:\n",
      "RULEID BASE1 BASE2 RatioConf DeltaConf Rule\n",
      "     1   115    35    2.234    +0.052  wxcodes(+RA -RA) => DEP_DELAY_GROUP(2) | --- : DEST(LGA) x DEST(JFK)\n",
      "     2    79    21    2.558    +0.039  wxcodes(+RA -RA) => DEP_DELAY_GROUP(3) | --- : DEST(LGA) x DEST(JFK)\n",
      "     3   115    36    2.296    +0.052  wxcodes(+RA BR -RA) => DEP_DELAY_GROUP(2) | --- : DEST(LGA) x DEST(JFK)\n",
      "     4    79    23    2.469    +0.038  wxcodes(+RA BR -RA) => DEP_DELAY_GROUP(3) | --- : DEST(LGA) x DEST(JFK)\n",
      "     5   115    35    2.201    +0.048  wxcodes(-DZ BR -RA) => DEP_DELAY_GROUP(2) | --- : DEST(LGA) x DEST(JFK)\n",
      "     6    80    21    2.551    +0.037  wxcodes(-DZ BR -RA) => DEP_DELAY_GROUP(3) | --- : DEST(LGA) x DEST(JFK)\n",
      "     7   115    35    2.243    +0.052  wxcodes(-DZ FG -RA) => DEP_DELAY_GROUP(2) | --- : DEST(LGA) x DEST(JFK)\n",
      "     8    79    21    2.568    +0.040  wxcodes(-DZ FG -RA) => DEP_DELAY_GROUP(3) | --- : DEST(LGA) x DEST(JFK)\n",
      "     9   115    35    2.240    +0.052  wxcodes(-RA) => DEP_DELAY_GROUP(2) | --- : DEST(LGA) x DEST(JFK)\n",
      "    10    79    21    2.565    +0.040  wxcodes(-RA) => DEP_DELAY_GROUP(3) | --- : DEST(LGA) x DEST(JFK)\n",
      "    11   163    51    2.414    +0.050  wxcodes(-RA -RA BR) => DEP_DELAY_GROUP(2) | --- : DEST(LGA) x DEST(JFK)\n",
      "    12   115    35    2.482    +0.036  wxcodes(-RA -RA BR) => DEP_DELAY_GROUP(3) | --- : DEST(LGA) x DEST(JFK)\n",
      "    13   115    35    2.258    +0.052  wxcodes(-RA -RA FG) => DEP_DELAY_GROUP(2) | --- : DEST(LGA) x DEST(JFK)\n",
      "    14    79    21    2.585    +0.040  wxcodes(-RA -RA FG) => DEP_DELAY_GROUP(3) | --- : DEST(LGA) x DEST(JFK)\n",
      "    15   121    35    2.236    +0.052  wxcodes(-RA -RA HZ) => DEP_DELAY_GROUP(2) | --- : DEST(LGA) x DEST(JFK)\n",
      "    16    89    21    2.741    +0.044  wxcodes(-RA -RA HZ) => DEP_DELAY_GROUP(3) | --- : DEST(LGA) x DEST(JFK)\n",
      "    17   144    35    2.329    +0.056  wxcodes(-RA -RASN) => DEP_DELAY_GROUP(2) | --- : DEST(LGA) x DEST(JFK)\n",
      "    18   128    21    3.450    +0.062  wxcodes(-RA -RASN) => DEP_DELAY_GROUP(3) | --- : DEST(LGA) x DEST(JFK)\n",
      "    19   116    39    2.003    +0.041  wxcodes(-RA -SN) => DEP_DELAY_GROUP(2) | --- : DEST(LGA) x DEST(JFK)\n",
      "    20    82    25    2.208    +0.032  wxcodes(-RA -SN) => DEP_DELAY_GROUP(3) | --- : DEST(LGA) x DEST(JFK)\n",
      "    21   115    36    2.214    +0.052  wxcodes(-RA -TSRA) => DEP_DELAY_GROUP(2) | --- : DEST(LGA) x DEST(JFK)\n",
      "    22    79    21    2.608    +0.040  wxcodes(-RA -TSRA) => DEP_DELAY_GROUP(3) | --- : DEST(LGA) x DEST(JFK)\n",
      "    23   153    57    2.095    +0.042  wxcodes(-RA BR) => DEP_DELAY_GROUP(2) | --- : DEST(LGA) x DEST(JFK)\n",
      "    24    98    36    2.124    +0.027  wxcodes(-RA BR) => DEP_DELAY_GROUP(3) | --- : DEST(LGA) x DEST(JFK)\n",
      "    25   115    38    2.136    +0.047  wxcodes(-RA FG) => DEP_DELAY_GROUP(2) | --- : DEST(LGA) x DEST(JFK)\n",
      "    26    83    24    2.441    +0.038  wxcodes(-RA FG) => DEP_DELAY_GROUP(3) | --- : DEST(LGA) x DEST(JFK)\n",
      "    27   118    35    2.256    +0.053  wxcodes(-RA HZ) => DEP_DELAY_GROUP(2) | --- : DEST(LGA) x DEST(JFK)\n",
      "    28    83    21    2.644    +0.042  wxcodes(-RA HZ) => DEP_DELAY_GROUP(3) | --- : DEST(LGA) x DEST(JFK)\n",
      "    29   115    35    2.283    +0.053  wxcodes(-RA MIFG) => DEP_DELAY_GROUP(2) | --- : DEST(LGA) x DEST(JFK)\n",
      "    30    79    21    2.614    +0.040  wxcodes(-RA MIFG) => DEP_DELAY_GROUP(3) | --- : DEST(LGA) x DEST(JFK)\n",
      "    31   115    38    2.148    +0.050  wxcodes(-RA RA) => DEP_DELAY_GROUP(2) | --- : DEST(LGA) x DEST(JFK)\n",
      "    32    79    23    2.438    +0.038  wxcodes(-RA RA) => DEP_DELAY_GROUP(3) | --- : DEST(LGA) x DEST(JFK)\n",
      "    33   112    30    2.312    +0.041  wxcodes(-RA RA BR) => DEP_DELAY_GROUP(3) | --- : DEST(LGA) x DEST(JFK)\n",
      "    34   115    36    2.214    +0.052  wxcodes(-RA TS) => DEP_DELAY_GROUP(2) | --- : DEST(LGA) x DEST(JFK)\n",
      "    35    79    21    2.608    +0.040  wxcodes(-RA TS) => DEP_DELAY_GROUP(3) | --- : DEST(LGA) x DEST(JFK)\n",
      "    36    49    20    2.033    +0.029  wxcodes(-RA BR -SN) => DEP_DELAY_GROUP(2) | --- : DEST(LGA) x DEST(JFK)\n",
      "    37    86    38    2.090    +0.033  wxcodes(-RA BR BR) => DEP_DELAY_GROUP(2) | --- : DEST(LGA) x DEST(JFK)\n",
      "    38    74    26    2.057    +0.037  wxcodes(-RA BR RA BR) => DEP_DELAY_GROUP(2) | --- : DEST(LGA) x DEST(JFK)\n",
      "    39    69    23    2.168    +0.036  wxcodes(-RA BR RA BR) => DEP_DELAY_GROUP(3) | --- : DEST(LGA) x DEST(JFK)\n",
      "    40    67    22    2.132    +0.039  wxcodes(-RASN BR) => DEP_DELAY_GROUP(2) | --- : DEST(LGA) x DEST(JFK)\n",
      "\n",
      "\n",
      "\n",
      "Rule id : 1\n",
      "\n",
      "Base1 :   115 Base2 :    35  Relative base 1 : 0.004 Relative base 2 : 0.001 CONF1 : 0.094  CONF2 : +0.042  Delta Conf : +0.052 Ratio Conf : +2.234\n",
      "\n",
      "Cedents:\n",
      "  antecedent : wxcodes(+RA -RA)\n",
      "  succcedent : DEP_DELAY_GROUP(2)\n",
      "  condition  : ---\n",
      "  first set  : DEST(LGA)\n",
      "  second set : DEST(JFK)\n",
      "\n",
      "Fourfold tables:\n",
      "FRST|  S  |  ¬S |  SCND|  S  |  ¬S |\n",
      "----|-----|-----|  ----|-----|-----| \n",
      " A  |  115| 1107|   A  |   35|  796|\n",
      "----|-----|-----|  ----|-----|-----|\n",
      "¬A  |  522|13659|  ¬A  |  372|10453|\n",
      "----|-----|-----|  ----|-----|-----|\n",
      "\n"
     ]
    }
   ],
   "source": [
    "clm = cm(df=df,proc='SD4ftMiner',\n",
    "               quantifiers= {'Base1':20, 'Base2':20, 'Ratioconf' : 2},\n",
    "               ante ={\n",
    "                    'attributes':[\n",
    "                        {'name': 'wxcodes', 'type': 'subset', 'minlen': 1, 'maxlen': 2}\n",
    "                    ], 'minlen':1, 'maxlen':1, 'type':'con'},\n",
    "               succ ={\n",
    "                    'attributes':[\n",
    "                        {'name': 'DEP_DELAY_GROUP', 'type': 'subset', 'minlen': 1, 'maxlen': 1}\n",
    "                    ], 'minlen':1, 'maxlen':1, 'type':'con'},\n",
    "               frst ={\n",
    "                    'attributes':[\n",
    "                        {'name': 'DEST', 'type': 'one', 'value':'LGA'}\n",
    "                    ], 'minlen':1, 'maxlen':1, 'type':'con'},\n",
    "               scnd ={\n",
    "                    'attributes':[\n",
    "                        {'name': 'DEST', 'type': 'one', 'value':'JFK'}\n",
    "                    ], 'minlen':1, 'maxlen':1, 'type':'con'},\n",
    "               opts = {'max_categories' : 500}\n",
    "               )\n",
    "\n",
    "clm.print_rulelist()\n",
    "clm.print_rule(1)"
   ]
  }
 ],
 "metadata": {
  "kernelspec": {
   "display_name": "Python 3 (ipykernel)",
   "language": "python",
   "name": "python3"
  },
  "language_info": {
   "codemirror_mode": {
    "name": "ipython",
    "version": 3
   },
   "file_extension": ".py",
   "mimetype": "text/x-python",
   "name": "python",
   "nbconvert_exporter": "python",
   "pygments_lexer": "ipython3",
   "version": "3.11.5"
  }
 },
 "nbformat": 4,
 "nbformat_minor": 5
}
